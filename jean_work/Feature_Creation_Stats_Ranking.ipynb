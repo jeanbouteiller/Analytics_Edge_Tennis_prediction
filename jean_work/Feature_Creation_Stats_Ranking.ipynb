{
 "cells": [
  {
   "cell_type": "code",
   "execution_count": 1,
   "metadata": {
    "ExecuteTime": {
     "end_time": "2020-10-29T23:26:43.593147Z",
     "start_time": "2020-10-29T23:26:43.069278Z"
    }
   },
   "outputs": [],
   "source": [
    "import pandas as pd\n",
    "from IPython.display import clear_output"
   ]
  },
  {
   "cell_type": "code",
   "execution_count": 2,
   "metadata": {
    "ExecuteTime": {
     "end_time": "2020-10-29T23:26:49.858469Z",
     "start_time": "2020-10-29T23:26:43.627332Z"
    }
   },
   "outputs": [],
   "source": [
    "data_players=pd.read_csv(r'processed_data/player_profiles_clean.csv').iloc[:,1:]\n",
    "all_games=pd.read_csv(r'processed_data/all_match_91_2020.csv')\n",
    "ranking_all=pd.read_csv(r'processed_data/ranking_91_2020_clean.csv').iloc[:,1:]"
   ]
  },
  {
   "cell_type": "code",
   "execution_count": 3,
   "metadata": {
    "ExecuteTime": {
     "end_time": "2020-10-29T23:26:50.062079Z",
     "start_time": "2020-10-29T23:26:50.029994Z"
    }
   },
   "outputs": [
    {
     "data": {
      "text/plain": [
       "106690"
      ]
     },
     "execution_count": 3,
     "metadata": {},
     "output_type": "execute_result"
    }
   ],
   "source": [
    "len_ref=len(all_games)\n",
    "len_ref"
   ]
  },
  {
   "cell_type": "markdown",
   "metadata": {},
   "source": [
    "First, need to group 'duplicates' in the dataframe"
   ]
  },
  {
   "cell_type": "code",
   "execution_count": 4,
   "metadata": {
    "ExecuteTime": {
     "end_time": "2020-10-29T23:27:05.162348Z",
     "start_time": "2020-10-29T23:26:50.231370Z"
    }
   },
   "outputs": [],
   "source": [
    "data_players=data_players.drop_duplicates(['player_name','year'])\n",
    "ranking_all=ranking_all.groupby(['unique_id','player_name','year','week_title']).mean().reset_index()"
   ]
  },
  {
   "cell_type": "markdown",
   "metadata": {
    "ExecuteTime": {
     "end_time": "2020-10-15T23:52:25.512790Z",
     "start_time": "2020-10-15T23:52:25.473337Z"
    }
   },
   "source": [
    "# Create the ranking of the player for the given match"
   ]
  },
  {
   "cell_type": "code",
   "execution_count": 5,
   "metadata": {
    "ExecuteTime": {
     "end_time": "2020-10-29T23:27:11.571218Z",
     "start_time": "2020-10-29T23:27:05.333962Z"
    }
   },
   "outputs": [],
   "source": [
    "all_games=all_games.merge(ranking_all[['unique_id','rank_number']],how='left',left_on='id_winner', right_on='unique_id').rename({'rank_number':'rank_winner'},axis=1).drop('unique_id',axis=1)\n",
    "all_games=all_games.merge(ranking_all[['unique_id','rank_number']],how='left',left_on='id_loser', right_on='unique_id').rename({'rank_number':'rank_loser'},axis=1).drop('unique_id',axis=1)"
   ]
  },
  {
   "cell_type": "markdown",
   "metadata": {},
   "source": [
    "# Add the height, birthdate, weight, player_hand, handedness, backhand, turned_pro"
   ]
  },
  {
   "cell_type": "code",
   "execution_count": 6,
   "metadata": {
    "ExecuteTime": {
     "end_time": "2020-10-29T23:27:12.716323Z",
     "start_time": "2020-10-29T23:27:11.761592Z"
    }
   },
   "outputs": [],
   "source": [
    "data_demo_players=data_players.drop_duplicates('player_name')\n",
    "\n",
    "all_games=all_games.merge(data_demo_players[['turned_pro','birthdate','player_hand','player_ht','weight_kg','handedness','backhand','player_name']]\n",
    "                ,how='left',left_on='winner', right_on='player_name').rename({'turned_pro':'turned_pro_winner',\n",
    "                                                                            'birthdate':'birthdate_winner',\n",
    "                                                                            'player_hand':'player_hand_winner',\n",
    "                                                                            'player_ht':'winner_height',\n",
    "                                                                            'weight_kg':'winner_weight',\n",
    "                                                                            'handedness':'winner_handedness',\n",
    "                                                                            'backhand':'winner_backhand'},axis=1).drop('player_name',axis=1)\n",
    "\n",
    "all_games=all_games.merge(data_demo_players[['turned_pro','birthdate','player_hand','player_ht','weight_kg','handedness','backhand','player_name']]\n",
    "                ,how='left',left_on='loser', right_on='player_name').rename({'turned_pro':'turned_pro_loser',\n",
    "                                                                            'birthdate':'birthdate_loser',\n",
    "                                                                            'player_hand':'player_hand_loser',\n",
    "                                                                            'player_ht':'loser_height',\n",
    "                                                                            'weight_kg':'loser_weight',\n",
    "                                                                            'handedness':'loser_handedness',\n",
    "                                                                            'backhand':'loser_backhand'},axis=1).drop('player_name',axis=1)"
   ]
  },
  {
   "cell_type": "markdown",
   "metadata": {
    "ExecuteTime": {
     "end_time": "2020-10-16T00:50:19.560520Z",
     "start_time": "2020-10-16T00:50:19.552947Z"
    }
   },
   "source": [
    "# Adding weighted average features based on time before. \n",
    "\n",
    "here I did an exponential average with a time of 2. <span class=\"burk\">That can be changed, as well as the sommothing parameter (2 by default in python.</span>\n",
    "\n",
    "## Games features"
   ]
  },
  {
   "cell_type": "code",
   "execution_count": 7,
   "metadata": {
    "ExecuteTime": {
     "end_time": "2020-10-29T23:27:13.176043Z",
     "start_time": "2020-10-29T23:27:13.147975Z"
    }
   },
   "outputs": [
    {
     "data": {
      "text/plain": [
       "11241    26.0\n",
       "11242     9.5\n",
       "Name: ace, dtype: float64"
      ]
     },
     "execution_count": 7,
     "metadata": {},
     "output_type": "execute_result"
    }
   ],
   "source": [
    "def exponential_avg_stats_players(feature_name,player_name,time_period):\n",
    "    data=data_players[data_players['player_name']==player_name]\n",
    "    return (data[feature_name].ewm(span=time_period).mean())\n",
    "\n",
    "exponential_avg_stats_players('ace','piros_z.',2)"
   ]
  },
  {
   "cell_type": "code",
   "execution_count": 8,
   "metadata": {
    "ExecuteTime": {
     "end_time": "2020-10-29T23:29:34.277956Z",
     "start_time": "2020-10-29T23:27:13.586162Z"
    }
   },
   "outputs": [],
   "source": [
    "list_features_exp_avg=['ace',\n",
    "       'df', 'svpt', '1stIn', '1stWon', '2ndWon', 'SvGms', 'bpSaved',\n",
    "       'bpFaced']\n",
    "\n",
    "for feature in list_features_exp_avg:\n",
    "    for player in data_players['player_name'].unique():\n",
    "        data_players.loc[data_players['player_name']==player,'exp_avg_'+feature]=exponential_avg_stats_players(feature,player,3)"
   ]
  },
  {
   "cell_type": "markdown",
   "metadata": {},
   "source": [
    "We can now add them to the dataset with the game. "
   ]
  },
  {
   "cell_type": "code",
   "execution_count": 9,
   "metadata": {
    "ExecuteTime": {
     "end_time": "2020-10-29T23:29:37.624143Z",
     "start_time": "2020-10-29T23:29:34.675489Z"
    }
   },
   "outputs": [],
   "source": [
    "all_games=pd.merge(all_games,data_players[['exp_avg_'+list_features_exp_avg[k] for k in range (len(list_features_exp_avg))]+['year','player_name']],\n",
    "                how='left',left_on=['year','winner'], right_on=['year','player_name']).drop('player_name',axis=1)\n",
    "for col in ['exp_avg_'+list_features_exp_avg[k] for k in range (len(list_features_exp_avg))]:\n",
    "    all_games=all_games.rename({col:col+'_winner'},axis=1)\n",
    "    \n",
    "all_games=pd.merge(all_games,data_players[['exp_avg_'+list_features_exp_avg[k] for k in range (len(list_features_exp_avg))]+['year','player_name']],\n",
    "                how='left',left_on=['year','loser'], right_on=['year','player_name']).drop('player_name',axis=1)\n",
    "for col in ['exp_avg_'+list_features_exp_avg[k] for k in range (len(list_features_exp_avg))]:\n",
    "    all_games=all_games.rename({col:col+'_loser'},axis=1)    "
   ]
  },
  {
   "cell_type": "code",
   "execution_count": 10,
   "metadata": {
    "ExecuteTime": {
     "end_time": "2020-10-29T23:29:38.808785Z",
     "start_time": "2020-10-29T23:29:37.965316Z"
    }
   },
   "outputs": [],
   "source": [
    "for col in ['exp_avg_'+list_features_exp_avg[k] for k in range (len(list_features_exp_avg))]:\n",
    "    all_games=all_games.rename({col:col+'_winner'},axis=1)"
   ]
  },
  {
   "cell_type": "markdown",
   "metadata": {
    "ExecuteTime": {
     "end_time": "2020-10-16T14:28:18.629671Z",
     "start_time": "2020-10-16T14:28:18.623362Z"
    }
   },
   "source": [
    "## Ranking features"
   ]
  },
  {
   "cell_type": "code",
   "execution_count": 11,
   "metadata": {
    "ExecuteTime": {
     "end_time": "2020-10-29T23:29:39.426102Z",
     "start_time": "2020-10-29T23:29:39.141738Z"
    }
   },
   "outputs": [
    {
     "data": {
      "text/plain": [
       "1883276    1754.000000\n",
       "1883277    1756.750000\n",
       "1883278    1757.654485\n",
       "1883279    1756.779950\n",
       "1883280    1757.704339\n",
       "              ...     \n",
       "1883372     736.068545\n",
       "1883373     718.965173\n",
       "1883374     703.516960\n",
       "1883375     689.422967\n",
       "1883376     646.436973\n",
       "Name: rank_number, Length: 101, dtype: float64"
      ]
     },
     "execution_count": 11,
     "metadata": {},
     "output_type": "execute_result"
    }
   ],
   "source": [
    "def exponential_avg_ranking_players(player_name,time_period):\n",
    "    data=ranking_all[ranking_all['player_name']==player_name]\n",
    "    return (data['rank_number'].ewm(span=time_period).mean())\n",
    "\n",
    "exponential_avg_ranking_players('piros_z.',10)"
   ]
  },
  {
   "cell_type": "markdown",
   "metadata": {
    "ExecuteTime": {
     "end_time": "2020-10-16T14:42:44.982479Z",
     "start_time": "2020-10-16T14:42:44.959432Z"
    }
   },
   "source": [
    "<span class=\"burk\">Warning: We should work only on the loser players instead of the ranking dataset, since the ranking dataset has many much players than the all_games (13000 vs 3500).</span> "
   ]
  },
  {
   "cell_type": "code",
   "execution_count": 12,
   "metadata": {
    "ExecuteTime": {
     "end_time": "2020-10-30T00:03:04.478947Z",
     "start_time": "2020-10-29T23:29:39.749471Z"
    }
   },
   "outputs": [
    {
     "name": "stdout",
     "output_type": "stream",
     "text": [
      "3500\n"
     ]
    }
   ],
   "source": [
    "k=1\n",
    "for player in all_games['loser'].unique():\n",
    "    if k%100==0:\n",
    "        clear_output(wait=True)\n",
    "        print(k)\n",
    "    ranking_all.loc[ranking_all['player_name']==player,'exp_avg_ranking']=exponential_avg_ranking_players(player,5)\n",
    "    k+=1\n",
    "    "
   ]
  },
  {
   "cell_type": "code",
   "execution_count": 13,
   "metadata": {
    "ExecuteTime": {
     "end_time": "2020-10-30T00:03:04.957846Z",
     "start_time": "2020-10-30T00:03:04.930901Z"
    }
   },
   "outputs": [
    {
     "data": {
      "text/plain": [
       "Index(['year', 'round', 'winner', 'loser', 'games_played', 'court', 'surface',\n",
       "       'tourney_singles_draw', 'tournoi_unique_id', 'week_title', 'id_winner',\n",
       "       'id_loser', 'rank_winner', 'rank_loser', 'turned_pro_winner',\n",
       "       'birthdate_winner', 'player_hand_winner', 'winner_height',\n",
       "       'winner_weight', 'winner_handedness', 'winner_backhand',\n",
       "       'turned_pro_loser', 'birthdate_loser', 'player_hand_loser',\n",
       "       'loser_height', 'loser_weight', 'loser_handedness', 'loser_backhand',\n",
       "       'exp_avg_ace_winner', 'exp_avg_df_winner', 'exp_avg_svpt_winner',\n",
       "       'exp_avg_1stIn_winner', 'exp_avg_1stWon_winner',\n",
       "       'exp_avg_2ndWon_winner', 'exp_avg_SvGms_winner',\n",
       "       'exp_avg_bpSaved_winner', 'exp_avg_bpFaced_winner', 'exp_avg_ace_loser',\n",
       "       'exp_avg_df_loser', 'exp_avg_svpt_loser', 'exp_avg_1stIn_loser',\n",
       "       'exp_avg_1stWon_loser', 'exp_avg_2ndWon_loser', 'exp_avg_SvGms_loser',\n",
       "       'exp_avg_bpSaved_loser', 'exp_avg_bpFaced_loser'],\n",
       "      dtype='object')"
      ]
     },
     "execution_count": 13,
     "metadata": {},
     "output_type": "execute_result"
    }
   ],
   "source": [
    "all_games.columns"
   ]
  },
  {
   "cell_type": "code",
   "execution_count": 14,
   "metadata": {
    "ExecuteTime": {
     "end_time": "2020-10-30T00:03:12.592837Z",
     "start_time": "2020-10-30T00:03:05.388025Z"
    }
   },
   "outputs": [],
   "source": [
    "all_games=all_games.merge(ranking_all[['unique_id','exp_avg_ranking']],how='left',left_on='id_winner',right_on='unique_id').rename({'exp_avg_ranking':'exp_avg_ranking_winner'},axis=1).drop('unique_id',axis=1)\n",
    "all_games=all_games.merge(ranking_all[['unique_id','exp_avg_ranking']],how='left',left_on='id_loser',right_on='unique_id').rename({'exp_avg_ranking':'exp_avg_ranking_loser'},axis=1).drop('unique_id',axis=1)"
   ]
  },
  {
   "cell_type": "markdown",
   "metadata": {},
   "source": [
    "# Final Dataset obtaining "
   ]
  },
  {
   "cell_type": "code",
   "execution_count": 17,
   "metadata": {
    "ExecuteTime": {
     "end_time": "2020-10-30T00:05:27.330038Z",
     "start_time": "2020-10-30T00:05:16.696487Z"
    }
   },
   "outputs": [],
   "source": [
    "all_games.to_csv(r'processed_data/all_games_with_games_stats.csv',index=False)"
   ]
  },
  {
   "cell_type": "markdown",
   "metadata": {},
   "source": [
    "# Other features we could add in the future\n",
    "\n",
    "With Noé, we also thought about other features that we could add in the future. We prefered keeping them in mind but not using them, in order to work on a first dataset, and then improve it. \n",
    "Here is a (non exhoaustive) list of them: \n",
    "- Nationality/location of the tournament\n",
    "- Nb tourney won by each pleayer\n",
    "- slope of the ranking\n",
    "- relative difference within a year of ranking."
   ]
  },
  {
   "cell_type": "code",
   "execution_count": 301,
   "metadata": {
    "ExecuteTime": {
     "end_time": "2020-10-17T18:38:41.384019Z",
     "start_time": "2020-10-17T18:38:41.371268Z"
    }
   },
   "outputs": [
    {
     "data": {
      "text/plain": [
       "Index(['year', 'round', 'winner', 'loser', 'games_played', 'court', 'surface',\n",
       "       'tourney_singles_draw', 'tournoi_unique_id', 'week_title', 'id_winner',\n",
       "       'id_loser', 'rank_winner', 'rank_loser', 'exp_avg_ace_winner',\n",
       "       'exp_avg_df_winner', 'exp_avg_svpt_winner', 'exp_avg_1stIn_winner',\n",
       "       'exp_avg_1stWon_winner', 'exp_avg_2ndWon_winner',\n",
       "       'exp_avg_SvGms_winner', 'exp_avg_bpSaved_winner',\n",
       "       'exp_avg_bpFaced_winner', 'exp_avg_ace_loser', 'exp_avg_df_loser',\n",
       "       'exp_avg_svpt_loser', 'exp_avg_1stIn_loser', 'exp_avg_1stWon_loser',\n",
       "       'exp_avg_2ndWon_loser', 'exp_avg_SvGms_loser', 'exp_avg_bpSaved_loser',\n",
       "       'exp_avg_bpFaced_loser', 'exp_avg_ranking_winner',\n",
       "       'exp_avg_ranking_loser', 'turned_pro_winner', 'birthdate_winner',\n",
       "       'player_hand_winner', 'winner_height', 'winner_weight',\n",
       "       'winner_handedness', 'winner_backhand', 'turned_pro_loser',\n",
       "       'birthdate_loser', 'player_hand_loser', 'loser_height', 'loser_weight',\n",
       "       'loser_handedness', 'loser_backhand'],\n",
       "      dtype='object')"
      ]
     },
     "execution_count": 301,
     "metadata": {},
     "output_type": "execute_result"
    }
   ],
   "source": [
    "all_games.columns"
   ]
  },
  {
   "cell_type": "code",
   "execution_count": 312,
   "metadata": {
    "ExecuteTime": {
     "end_time": "2020-10-17T21:26:10.793829Z",
     "start_time": "2020-10-17T21:26:10.788830Z"
    }
   },
   "outputs": [],
   "source": [
    "# Baseline edition"
   ]
  },
  {
   "cell_type": "code",
   "execution_count": 311,
   "metadata": {
    "ExecuteTime": {
     "end_time": "2020-10-17T21:25:53.057352Z",
     "start_time": "2020-10-17T21:25:48.950436Z"
    }
   },
   "outputs": [
    {
     "data": {
      "text/html": [
       "<div>\n",
       "<style scoped>\n",
       "    .dataframe tbody tr th:only-of-type {\n",
       "        vertical-align: middle;\n",
       "    }\n",
       "\n",
       "    .dataframe tbody tr th {\n",
       "        vertical-align: top;\n",
       "    }\n",
       "\n",
       "    .dataframe thead th {\n",
       "        text-align: right;\n",
       "    }\n",
       "</style>\n",
       "<table border=\"1\" class=\"dataframe\">\n",
       "  <thead>\n",
       "    <tr style=\"text-align: right;\">\n",
       "      <th></th>\n",
       "      <th>year</th>\n",
       "      <th>round</th>\n",
       "      <th>winner</th>\n",
       "      <th>loser</th>\n",
       "      <th>games_played</th>\n",
       "      <th>court</th>\n",
       "      <th>surface</th>\n",
       "      <th>tourney_singles_draw</th>\n",
       "      <th>tournoi_unique_id</th>\n",
       "      <th>week_title</th>\n",
       "      <th>...</th>\n",
       "      <th>winner_weight</th>\n",
       "      <th>winner_handedness</th>\n",
       "      <th>winner_backhand</th>\n",
       "      <th>turned_pro_loser</th>\n",
       "      <th>birthdate_loser</th>\n",
       "      <th>player_hand_loser</th>\n",
       "      <th>loser_height</th>\n",
       "      <th>loser_weight</th>\n",
       "      <th>loser_handedness</th>\n",
       "      <th>loser_backhand</th>\n",
       "    </tr>\n",
       "  </thead>\n",
       "  <tbody>\n",
       "    <tr>\n",
       "      <th>1</th>\n",
       "      <td>1991</td>\n",
       "      <td>2.0</td>\n",
       "      <td>novacek_k.</td>\n",
       "      <td>vajda_m.</td>\n",
       "      <td>26.0</td>\n",
       "      <td>Outdoor</td>\n",
       "      <td>Hard</td>\n",
       "      <td>32</td>\n",
       "      <td>1991-auckland-hard</td>\n",
       "      <td>1991-01-07</td>\n",
       "      <td>...</td>\n",
       "      <td>82.0</td>\n",
       "      <td>NaN</td>\n",
       "      <td>NaN</td>\n",
       "      <td>NaN</td>\n",
       "      <td>1965.03.24</td>\n",
       "      <td>R</td>\n",
       "      <td>173.0</td>\n",
       "      <td>68.0</td>\n",
       "      <td>NaN</td>\n",
       "      <td>NaN</td>\n",
       "    </tr>\n",
       "    <tr>\n",
       "      <th>4</th>\n",
       "      <td>1991</td>\n",
       "      <td>3.0</td>\n",
       "      <td>novacek_k.</td>\n",
       "      <td>jonsson_l.</td>\n",
       "      <td>0.0</td>\n",
       "      <td>Outdoor</td>\n",
       "      <td>Hard</td>\n",
       "      <td>32</td>\n",
       "      <td>1991-auckland-hard</td>\n",
       "      <td>1991-01-07</td>\n",
       "      <td>...</td>\n",
       "      <td>82.0</td>\n",
       "      <td>NaN</td>\n",
       "      <td>NaN</td>\n",
       "      <td>1988.0</td>\n",
       "      <td>1970.06.27</td>\n",
       "      <td>R</td>\n",
       "      <td>188.0</td>\n",
       "      <td>70.0</td>\n",
       "      <td>NaN</td>\n",
       "      <td>NaN</td>\n",
       "    </tr>\n",
       "    <tr>\n",
       "      <th>5</th>\n",
       "      <td>1991</td>\n",
       "      <td>3.0</td>\n",
       "      <td>mattar_l.</td>\n",
       "      <td>bergstrom_c.</td>\n",
       "      <td>0.0</td>\n",
       "      <td>Outdoor</td>\n",
       "      <td>Hard</td>\n",
       "      <td>32</td>\n",
       "      <td>1991-auckland-hard</td>\n",
       "      <td>1991-01-07</td>\n",
       "      <td>...</td>\n",
       "      <td>76.0</td>\n",
       "      <td>NaN</td>\n",
       "      <td>NaN</td>\n",
       "      <td>1985.0</td>\n",
       "      <td>1967.07.19</td>\n",
       "      <td>R</td>\n",
       "      <td>180.0</td>\n",
       "      <td>68.0</td>\n",
       "      <td>NaN</td>\n",
       "      <td>NaN</td>\n",
       "    </tr>\n",
       "    <tr>\n",
       "      <th>6</th>\n",
       "      <td>1991</td>\n",
       "      <td>3.0</td>\n",
       "      <td>vajda_m.</td>\n",
       "      <td>kuhnen_p.</td>\n",
       "      <td>29.0</td>\n",
       "      <td>Outdoor</td>\n",
       "      <td>Hard</td>\n",
       "      <td>32</td>\n",
       "      <td>1991-auckland-hard</td>\n",
       "      <td>1991-01-07</td>\n",
       "      <td>...</td>\n",
       "      <td>68.0</td>\n",
       "      <td>NaN</td>\n",
       "      <td>NaN</td>\n",
       "      <td>1985.0</td>\n",
       "      <td>1966.02.11</td>\n",
       "      <td>R</td>\n",
       "      <td>190.0</td>\n",
       "      <td>82.0</td>\n",
       "      <td>NaN</td>\n",
       "      <td>NaN</td>\n",
       "    </tr>\n",
       "    <tr>\n",
       "      <th>7</th>\n",
       "      <td>1991</td>\n",
       "      <td>4.0</td>\n",
       "      <td>sanchez_e.</td>\n",
       "      <td>washington_m.</td>\n",
       "      <td>32.0</td>\n",
       "      <td>Outdoor</td>\n",
       "      <td>Hard</td>\n",
       "      <td>32</td>\n",
       "      <td>1991-auckland-hard</td>\n",
       "      <td>1991-01-07</td>\n",
       "      <td>...</td>\n",
       "      <td>74.0</td>\n",
       "      <td>NaN</td>\n",
       "      <td>NaN</td>\n",
       "      <td>1989.0</td>\n",
       "      <td>1969.06.20</td>\n",
       "      <td>R</td>\n",
       "      <td>180.0</td>\n",
       "      <td>79.0</td>\n",
       "      <td>NaN</td>\n",
       "      <td>NaN</td>\n",
       "    </tr>\n",
       "    <tr>\n",
       "      <th>...</th>\n",
       "      <td>...</td>\n",
       "      <td>...</td>\n",
       "      <td>...</td>\n",
       "      <td>...</td>\n",
       "      <td>...</td>\n",
       "      <td>...</td>\n",
       "      <td>...</td>\n",
       "      <td>...</td>\n",
       "      <td>...</td>\n",
       "      <td>...</td>\n",
       "      <td>...</td>\n",
       "      <td>...</td>\n",
       "      <td>...</td>\n",
       "      <td>...</td>\n",
       "      <td>...</td>\n",
       "      <td>...</td>\n",
       "      <td>...</td>\n",
       "      <td>...</td>\n",
       "      <td>...</td>\n",
       "      <td>...</td>\n",
       "      <td>...</td>\n",
       "    </tr>\n",
       "    <tr>\n",
       "      <th>106685</th>\n",
       "      <td>2020</td>\n",
       "      <td>3.0</td>\n",
       "      <td>dimitrov_g.</td>\n",
       "      <td>wawrinka_s.</td>\n",
       "      <td>20.0</td>\n",
       "      <td>Outdoor</td>\n",
       "      <td>Hard</td>\n",
       "      <td>32</td>\n",
       "      <td>2020-acapulco-hard</td>\n",
       "      <td>2020-02-27</td>\n",
       "      <td>...</td>\n",
       "      <td>80.0</td>\n",
       "      <td>Right-Handed</td>\n",
       "      <td>One-Handed Backhand</td>\n",
       "      <td>2002.0</td>\n",
       "      <td>1985.03.28</td>\n",
       "      <td>R</td>\n",
       "      <td>183.0</td>\n",
       "      <td>81.0</td>\n",
       "      <td>Right-Handed</td>\n",
       "      <td>One-Handed Backhand</td>\n",
       "    </tr>\n",
       "    <tr>\n",
       "      <th>106686</th>\n",
       "      <td>2020</td>\n",
       "      <td>3.0</td>\n",
       "      <td>nadal_r.</td>\n",
       "      <td>kwon_s.w.</td>\n",
       "      <td>15.0</td>\n",
       "      <td>Outdoor</td>\n",
       "      <td>Hard</td>\n",
       "      <td>32</td>\n",
       "      <td>2020-acapulco-hard</td>\n",
       "      <td>2020-02-27</td>\n",
       "      <td>...</td>\n",
       "      <td>85.0</td>\n",
       "      <td>Left-Handed</td>\n",
       "      <td>Two-Handed Backhand</td>\n",
       "      <td>NaN</td>\n",
       "      <td>NaN</td>\n",
       "      <td>NaN</td>\n",
       "      <td>NaN</td>\n",
       "      <td>NaN</td>\n",
       "      <td>NaN</td>\n",
       "      <td>NaN</td>\n",
       "    </tr>\n",
       "    <tr>\n",
       "      <th>106687</th>\n",
       "      <td>2020</td>\n",
       "      <td>2.0</td>\n",
       "      <td>fritz_t.</td>\n",
       "      <td>isner_j.</td>\n",
       "      <td>29.0</td>\n",
       "      <td>Outdoor</td>\n",
       "      <td>Hard</td>\n",
       "      <td>32</td>\n",
       "      <td>2020-acapulco-hard</td>\n",
       "      <td>2020-02-27</td>\n",
       "      <td>...</td>\n",
       "      <td>84.0</td>\n",
       "      <td>Right-Handed</td>\n",
       "      <td>Two-Handed Backhand</td>\n",
       "      <td>2007.0</td>\n",
       "      <td>1985.04.26</td>\n",
       "      <td>R</td>\n",
       "      <td>206.0</td>\n",
       "      <td>108.0</td>\n",
       "      <td>Right-Handed</td>\n",
       "      <td>Two-Handed Backhand</td>\n",
       "    </tr>\n",
       "    <tr>\n",
       "      <th>106688</th>\n",
       "      <td>2020</td>\n",
       "      <td>2.0</td>\n",
       "      <td>nadal_r.</td>\n",
       "      <td>dimitrov_g.</td>\n",
       "      <td>17.0</td>\n",
       "      <td>Outdoor</td>\n",
       "      <td>Hard</td>\n",
       "      <td>32</td>\n",
       "      <td>2020-acapulco-hard</td>\n",
       "      <td>2020-02-27</td>\n",
       "      <td>...</td>\n",
       "      <td>85.0</td>\n",
       "      <td>Left-Handed</td>\n",
       "      <td>Two-Handed Backhand</td>\n",
       "      <td>2008.0</td>\n",
       "      <td>1991.05.16</td>\n",
       "      <td>R</td>\n",
       "      <td>188.0</td>\n",
       "      <td>80.0</td>\n",
       "      <td>Right-Handed</td>\n",
       "      <td>One-Handed Backhand</td>\n",
       "    </tr>\n",
       "    <tr>\n",
       "      <th>106689</th>\n",
       "      <td>2020</td>\n",
       "      <td>1.0</td>\n",
       "      <td>nadal_r.</td>\n",
       "      <td>fritz_t.</td>\n",
       "      <td>17.0</td>\n",
       "      <td>Outdoor</td>\n",
       "      <td>Hard</td>\n",
       "      <td>32</td>\n",
       "      <td>2020-acapulco-hard</td>\n",
       "      <td>2020-02-27</td>\n",
       "      <td>...</td>\n",
       "      <td>85.0</td>\n",
       "      <td>Left-Handed</td>\n",
       "      <td>Two-Handed Backhand</td>\n",
       "      <td>2015.0</td>\n",
       "      <td>1997.10.28</td>\n",
       "      <td>R</td>\n",
       "      <td>185.0</td>\n",
       "      <td>84.0</td>\n",
       "      <td>Right-Handed</td>\n",
       "      <td>Two-Handed Backhand</td>\n",
       "    </tr>\n",
       "  </tbody>\n",
       "</table>\n",
       "<p>80016 rows × 48 columns</p>\n",
       "</div>"
      ],
      "text/plain": [
       "        year  round       winner          loser  games_played    court  \\\n",
       "1       1991    2.0   novacek_k.       vajda_m.          26.0  Outdoor   \n",
       "4       1991    3.0   novacek_k.     jonsson_l.           0.0  Outdoor   \n",
       "5       1991    3.0    mattar_l.   bergstrom_c.           0.0  Outdoor   \n",
       "6       1991    3.0     vajda_m.      kuhnen_p.          29.0  Outdoor   \n",
       "7       1991    4.0   sanchez_e.  washington_m.          32.0  Outdoor   \n",
       "...      ...    ...          ...            ...           ...      ...   \n",
       "106685  2020    3.0  dimitrov_g.    wawrinka_s.          20.0  Outdoor   \n",
       "106686  2020    3.0     nadal_r.      kwon_s.w.          15.0  Outdoor   \n",
       "106687  2020    2.0     fritz_t.       isner_j.          29.0  Outdoor   \n",
       "106688  2020    2.0     nadal_r.    dimitrov_g.          17.0  Outdoor   \n",
       "106689  2020    1.0     nadal_r.       fritz_t.          17.0  Outdoor   \n",
       "\n",
       "       surface  tourney_singles_draw   tournoi_unique_id  week_title  ...  \\\n",
       "1         Hard                    32  1991-auckland-hard  1991-01-07  ...   \n",
       "4         Hard                    32  1991-auckland-hard  1991-01-07  ...   \n",
       "5         Hard                    32  1991-auckland-hard  1991-01-07  ...   \n",
       "6         Hard                    32  1991-auckland-hard  1991-01-07  ...   \n",
       "7         Hard                    32  1991-auckland-hard  1991-01-07  ...   \n",
       "...        ...                   ...                 ...         ...  ...   \n",
       "106685    Hard                    32  2020-acapulco-hard  2020-02-27  ...   \n",
       "106686    Hard                    32  2020-acapulco-hard  2020-02-27  ...   \n",
       "106687    Hard                    32  2020-acapulco-hard  2020-02-27  ...   \n",
       "106688    Hard                    32  2020-acapulco-hard  2020-02-27  ...   \n",
       "106689    Hard                    32  2020-acapulco-hard  2020-02-27  ...   \n",
       "\n",
       "       winner_weight winner_handedness      winner_backhand  turned_pro_loser  \\\n",
       "1               82.0               NaN                  NaN               NaN   \n",
       "4               82.0               NaN                  NaN            1988.0   \n",
       "5               76.0               NaN                  NaN            1985.0   \n",
       "6               68.0               NaN                  NaN            1985.0   \n",
       "7               74.0               NaN                  NaN            1989.0   \n",
       "...              ...               ...                  ...               ...   \n",
       "106685          80.0      Right-Handed  One-Handed Backhand            2002.0   \n",
       "106686          85.0       Left-Handed  Two-Handed Backhand               NaN   \n",
       "106687          84.0      Right-Handed  Two-Handed Backhand            2007.0   \n",
       "106688          85.0       Left-Handed  Two-Handed Backhand            2008.0   \n",
       "106689          85.0       Left-Handed  Two-Handed Backhand            2015.0   \n",
       "\n",
       "        birthdate_loser  player_hand_loser  loser_height  loser_weight  \\\n",
       "1            1965.03.24                  R         173.0          68.0   \n",
       "4            1970.06.27                  R         188.0          70.0   \n",
       "5            1967.07.19                  R         180.0          68.0   \n",
       "6            1966.02.11                  R         190.0          82.0   \n",
       "7            1969.06.20                  R         180.0          79.0   \n",
       "...                 ...                ...           ...           ...   \n",
       "106685       1985.03.28                  R         183.0          81.0   \n",
       "106686              NaN                NaN           NaN           NaN   \n",
       "106687       1985.04.26                  R         206.0         108.0   \n",
       "106688       1991.05.16                  R         188.0          80.0   \n",
       "106689       1997.10.28                  R         185.0          84.0   \n",
       "\n",
       "        loser_handedness       loser_backhand  \n",
       "1                    NaN                  NaN  \n",
       "4                    NaN                  NaN  \n",
       "5                    NaN                  NaN  \n",
       "6                    NaN                  NaN  \n",
       "7                    NaN                  NaN  \n",
       "...                  ...                  ...  \n",
       "106685      Right-Handed  One-Handed Backhand  \n",
       "106686               NaN                  NaN  \n",
       "106687      Right-Handed  Two-Handed Backhand  \n",
       "106688      Right-Handed  One-Handed Backhand  \n",
       "106689      Right-Handed  Two-Handed Backhand  \n",
       "\n",
       "[80016 rows x 48 columns]"
      ]
     },
     "execution_count": 311,
     "metadata": {},
     "output_type": "execute_result"
    }
   ],
   "source": [
    "all_games.dropna(subset=['rank_winner','rank_loser'])"
   ]
  },
  {
   "cell_type": "code",
   "execution_count": 314,
   "metadata": {
    "ExecuteTime": {
     "end_time": "2020-10-17T21:28:54.917449Z",
     "start_time": "2020-10-17T21:28:54.840438Z"
    }
   },
   "outputs": [
    {
     "data": {
      "text/plain": [
       "0.6478204359128175"
      ]
     },
     "execution_count": 314,
     "metadata": {},
     "output_type": "execute_result"
    }
   ],
   "source": [
    "df=all_games.dropna(subset=['rank_winner','rank_loser'])\n",
    "nb_match=len(df)\n",
    "nb_good_rank=len(df[df['rank_winner']<df['rank_loser']])\n",
    "nb_good_rank/nb_match"
   ]
  }
 ],
 "metadata": {
  "kernelspec": {
   "display_name": "Python 3",
   "language": "python",
   "name": "python3"
  },
  "language_info": {
   "codemirror_mode": {
    "name": "ipython",
    "version": 3
   },
   "file_extension": ".py",
   "mimetype": "text/x-python",
   "name": "python",
   "nbconvert_exporter": "python",
   "pygments_lexer": "ipython3",
   "version": "3.8.3"
  },
  "toc": {
   "base_numbering": 1,
   "nav_menu": {},
   "number_sections": true,
   "sideBar": true,
   "skip_h1_title": false,
   "title_cell": "Table of Contents",
   "title_sidebar": "Contents",
   "toc_cell": false,
   "toc_position": {},
   "toc_section_display": true,
   "toc_window_display": false
  },
  "varInspector": {
   "cols": {
    "lenName": 16,
    "lenType": 16,
    "lenVar": 40
   },
   "kernels_config": {
    "python": {
     "delete_cmd_postfix": "",
     "delete_cmd_prefix": "del ",
     "library": "var_list.py",
     "varRefreshCmd": "print(var_dic_list())"
    },
    "r": {
     "delete_cmd_postfix": ") ",
     "delete_cmd_prefix": "rm(",
     "library": "var_list.r",
     "varRefreshCmd": "cat(var_dic_list()) "
    }
   },
   "types_to_exclude": [
    "module",
    "function",
    "builtin_function_or_method",
    "instance",
    "_Feature"
   ],
   "window_display": false
  }
 },
 "nbformat": 4,
 "nbformat_minor": 4
}
