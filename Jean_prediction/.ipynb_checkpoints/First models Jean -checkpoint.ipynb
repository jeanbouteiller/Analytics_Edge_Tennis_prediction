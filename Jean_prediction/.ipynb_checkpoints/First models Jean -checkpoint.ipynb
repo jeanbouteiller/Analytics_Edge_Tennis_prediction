{
 "cells": [
  {
   "cell_type": "code",
   "execution_count": 155,
   "metadata": {
    "ExecuteTime": {
     "end_time": "2020-10-30T13:54:40.012599Z",
     "start_time": "2020-10-30T13:54:40.008589Z"
    }
   },
   "outputs": [],
   "source": [
    "import pandas as pd\n",
    "import os\n",
    "from random import random\n",
    "from datetime import datetime"
   ]
  },
  {
   "cell_type": "code",
   "execution_count": 9,
   "metadata": {
    "ExecuteTime": {
     "end_time": "2020-10-29T23:24:49.721496Z",
     "start_time": "2020-10-29T23:24:49.712936Z"
    }
   },
   "outputs": [
    {
     "name": "stdout",
     "output_type": "stream",
     "text": [
      "C:\\Users\\jefo7\\Documents\\Analytics_edge\\Group_project\\Analytics_Edge_Tennis_prediction\\jean_work\\processed_data\n"
     ]
    }
   ],
   "source": [
    "path = r\"\\Users\\jefo7\\Documents\\Analytics_edge\\Group_project\\Analytics_Edge_Tennis_prediction\\jean_work\\processed_data\"\n",
    "os.chdir(path)\n",
    "print(os.path.abspath(os.curdir))"
   ]
  },
  {
   "cell_type": "code",
   "execution_count": 86,
   "metadata": {
    "ExecuteTime": {
     "end_time": "2020-10-30T00:42:59.483202Z",
     "start_time": "2020-10-30T00:42:56.706795Z"
    }
   },
   "outputs": [],
   "source": [
    "games_stats=pd.read_csv('all_games_with_games_stats.csv')\n",
    "historical_data=pd.read_csv('processed_matches.csv')\n",
    "games_stats=games_stats[games_stats['year']>=2000].dropna(subset=[\"round\"]).reset_index()"
   ]
  },
  {
   "cell_type": "code",
   "execution_count": 87,
   "metadata": {
    "ExecuteTime": {
     "end_time": "2020-10-30T00:43:00.314486Z",
     "start_time": "2020-10-30T00:43:00.062037Z"
    }
   },
   "outputs": [],
   "source": [
    "final_dataset=pd.concat([historical_data,games_stats],axis=1)"
   ]
  },
  {
   "cell_type": "markdown",
   "metadata": {},
   "source": [
    "# Cleaning the finaldataset\n",
    "\n",
    "## Remove useless columns\n"
   ]
  },
  {
   "cell_type": "code",
   "execution_count": 88,
   "metadata": {
    "ExecuteTime": {
     "end_time": "2020-10-30T00:43:03.422475Z",
     "start_time": "2020-10-30T00:43:03.116142Z"
    }
   },
   "outputs": [],
   "source": [
    "final_dataset=final_dataset.drop(['match_id','year','id_winner','index','id_loser','tournoi_unique_id'],axis=1)"
   ]
  },
  {
   "cell_type": "code",
   "execution_count": 89,
   "metadata": {
    "ExecuteTime": {
     "end_time": "2020-10-30T00:43:04.915376Z",
     "start_time": "2020-10-30T00:43:04.773791Z"
    }
   },
   "outputs": [],
   "source": [
    "final_dataset=final_dataset.loc[:,~final_dataset.columns.duplicated()]"
   ]
  },
  {
   "cell_type": "code",
   "execution_count": 90,
   "metadata": {
    "ExecuteTime": {
     "end_time": "2020-10-30T00:43:10.136390Z",
     "start_time": "2020-10-30T00:43:06.257548Z"
    }
   },
   "outputs": [],
   "source": [
    "final_dataset['week_title']=pd.to_datetime(final_dataset['week_title'])\n",
    "final_dataset['birthdate_loser']=pd.to_datetime(final_dataset['birthdate_loser'])\n",
    "final_dataset['birthdate_winner']=pd.to_datetime(final_dataset['birthdate_winner'])\n",
    "final_dataset['winner_age_days']=(final_dataset['week_title']-final_dataset['birthdate_winner']).apply(lambda x:float(x.days))\n",
    "final_dataset['loser_age_days']=(final_dataset['week_title']-final_dataset['birthdate_loser']).apply(lambda x:float(x.days))\n"
   ]
  },
  {
   "cell_type": "code",
   "execution_count": 106,
   "metadata": {
    "ExecuteTime": {
     "end_time": "2020-10-30T01:01:52.090195Z",
     "start_time": "2020-10-30T00:57:36.368752Z"
    }
   },
   "outputs": [],
   "source": [
    "loser_list=['number_match_played_last_year_loser','number_match_won_last_year_loser',\n",
    " 'percentage_won_last_year_loser','number_games_played_last_year_loser',\n",
    " 'number_match_played_last_year_on_Hard_loser','number_match_won_last_year_on_Hard_loser',\n",
    " 'number_match_played_last_year_on_Clay_loser','number_match_won_last_year_on_Clay_loser','number_match_played_last_year_on_Grass_loser',\n",
    " 'number_match_won_last_year_on_Grass_loser','number_match_played_last_year_on_Carpet_loser','number_match_won_last_year_on_Carpet_loser',\n",
    " 'number_match_played_last_year_Outdoor_loser','number_match_won_last_year_Outdoor_loser','number_match_played_last_year_Indoor_loser',\n",
    " 'number_match_won_last_year_Indoor_loser','number_match_played_last_year_in_round_1_loser','number_match_won_last_year_in_round_1_loser',\n",
    " 'number_match_played_last_year_in_round_2_loser','number_match_won_last_year_in_round_2_loser','number_match_played_last_year_in_round_3_loser',\n",
    " 'number_match_won_last_year_in_round_3_loser','number_match_played_last_year_in_round_4_loser','number_match_won_last_year_in_round_4_loser',\n",
    " 'number_match_played_last_year_in_round_5_loser','number_match_won_last_year_in_round_5_loser','number_match_played_last_year_in_round_6_loser',\n",
    " 'number_match_won_last_year_in_round_6_loser','number_match_played_last_year_in_round_7_loser','number_match_won_last_year_in_round_7_loser',\n",
    " 'number_match_played_last_year_in_round_8_loser','number_match_won_last_year_in_round_8_loser','number_match_played_last_year_in_round_9_loser',\n",
    " 'number_match_won_last_year_in_round_9_loser','number_match_played_last_year_in_round_10_loser','number_match_won_last_year_in_round_10_loser',\n",
    "'rank_loser','turned_pro_loser','player_hand_loser','loser_height','loser_weight','loser_handedness','loser_backhand'\n",
    "    ,'exp_avg_ace_loser','exp_avg_df_loser','exp_avg_svpt_loser','exp_avg_1stIn_loser','exp_avg_1stWon_loser','exp_avg_2ndWon_loser','exp_avg_SvGms_loser',\n",
    " 'exp_avg_bpSaved_loser','exp_avg_bpFaced_loser','exp_avg_ranking_loser','loser_age_days']\n",
    "\n",
    "\n",
    "\n",
    "winner_list=['number_match_played_last_year_winner','number_match_won_last_year_winner',\n",
    " 'percentage_won_last_year_winner','number_games_played_last_year_winner',\n",
    " 'number_match_played_last_year_on_Hard_winner','number_match_won_last_year_on_Hard_winner',\n",
    " 'number_match_played_last_year_on_Clay_winner','number_match_won_last_year_on_Clay_winner','number_match_played_last_year_on_Grass_winner',\n",
    " 'number_match_won_last_year_on_Grass_winner','number_match_played_last_year_on_Carpet_winner','number_match_won_last_year_on_Carpet_winner',\n",
    " 'number_match_played_last_year_Outdoor_winner','number_match_won_last_year_Outdoor_winner','number_match_played_last_year_Indoor_winner',\n",
    " 'number_match_won_last_year_Indoor_winner','number_match_played_last_year_in_round_1_winner','number_match_won_last_year_in_round_1_winner',\n",
    " 'number_match_played_last_year_in_round_2_winner','number_match_won_last_year_in_round_2_winner','number_match_played_last_year_in_round_3_winner',\n",
    " 'number_match_won_last_year_in_round_3_winner','number_match_played_last_year_in_round_4_winner','number_match_won_last_year_in_round_4_winner',\n",
    " 'number_match_played_last_year_in_round_5_winner','number_match_won_last_year_in_round_5_winner','number_match_played_last_year_in_round_6_winner',\n",
    " 'number_match_won_last_year_in_round_6_winner','number_match_played_last_year_in_round_7_winner','number_match_won_last_year_in_round_7_winner',\n",
    " 'number_match_played_last_year_in_round_8_winner','number_match_won_last_year_in_round_8_winner','number_match_played_last_year_in_round_9_winner',\n",
    " 'number_match_won_last_year_in_round_9_winner','number_match_played_last_year_in_round_10_winner','number_match_won_last_year_in_round_10_winner',\n",
    "'rank_winner','turned_pro_winner','player_hand_winner','winner_height','winner_weight','winner_handedness','winner_backhand'\n",
    "    ,'exp_avg_ace_winner','exp_avg_df_winner','exp_avg_svpt_winner','exp_avg_1stIn_winner','exp_avg_1stWon_winner','exp_avg_2ndWon_winner','exp_avg_SvGms_winner',\n",
    " 'exp_avg_bpSaved_winner','exp_avg_bpFaced_winner','exp_avg_ranking_winner','winner_age_days']\n",
    "\n",
    "def shuffle_game(row): \n",
    "    rand=random()\n",
    "    if rand>0.5:\n",
    "        winner=1\n",
    "        loser=0\n",
    "        row['winner_player']=1\n",
    "        return row\n",
    "    else:\n",
    "        winner=0\n",
    "        loser=1\n",
    "        memory=row[loser_list].values\n",
    "        row[loser_list]=row[winner_list].values\n",
    "        row[winner_list]=memory\n",
    "        row['winner_player']=0\n",
    "        winner_name=row['winner']\n",
    "        row['winner']=row['loser']\n",
    "        row['loser']=winner_name\n",
    "        return row\n",
    "        \n",
    "final_dataset=final_dataset.apply(lambda x:shuffle_game(x),axis=1)\n"
   ]
  },
  {
   "cell_type": "markdown",
   "metadata": {},
   "source": [
    "now, let's rename the columns to avoid confusion"
   ]
  },
  {
   "cell_type": "code",
   "execution_count": 134,
   "metadata": {
    "ExecuteTime": {
     "end_time": "2020-10-30T13:39:45.540642Z",
     "start_time": "2020-10-30T13:39:45.534621Z"
    }
   },
   "outputs": [
    {
     "data": {
      "text/plain": [
       "'gsgfd'"
      ]
     },
     "execution_count": 134,
     "metadata": {},
     "output_type": "execute_result"
    }
   ],
   "source": [
    "'gsgfd'.replace('r','s')"
   ]
  },
  {
   "cell_type": "code",
   "execution_count": 143,
   "metadata": {
    "ExecuteTime": {
     "end_time": "2020-10-30T13:44:56.642922Z",
     "start_time": "2020-10-30T13:44:56.636892Z"
    }
   },
   "outputs": [],
   "source": [
    "list_col_rename=[]\n",
    "for col in final_dataset.columns: \n",
    "    if col!='winner_player':\n",
    "        col=col.replace('winner','player_left')\n",
    "        col=col.replace('loser','player_right')\n",
    "        list_col_rename.append(col)\n",
    "list_col_rename.append('winner_player')\n",
    "dict_col_rename={final_dataset.columns[i]: list_col_rename[i] for i in range(len(final_dataset.columns))} "
   ]
  },
  {
   "cell_type": "code",
   "execution_count": 181,
   "metadata": {
    "ExecuteTime": {
     "end_time": "2020-10-30T14:09:07.519798Z",
     "start_time": "2020-10-30T14:09:07.451797Z"
    }
   },
   "outputs": [
    {
     "data": {
      "text/html": [
       "<div>\n",
       "<style scoped>\n",
       "    .dataframe tbody tr th:only-of-type {\n",
       "        vertical-align: middle;\n",
       "    }\n",
       "\n",
       "    .dataframe tbody tr th {\n",
       "        vertical-align: top;\n",
       "    }\n",
       "\n",
       "    .dataframe thead th {\n",
       "        text-align: right;\n",
       "    }\n",
       "</style>\n",
       "<table border=\"1\" class=\"dataframe\">\n",
       "  <thead>\n",
       "    <tr style=\"text-align: right;\">\n",
       "      <th></th>\n",
       "      <th>round</th>\n",
       "      <th>winner</th>\n",
       "      <th>loser</th>\n",
       "      <th>games_played</th>\n",
       "      <th>court</th>\n",
       "      <th>surface</th>\n",
       "      <th>tourney_singles_draw</th>\n",
       "      <th>week_title</th>\n",
       "      <th>number_match_played_last_year_winner</th>\n",
       "      <th>number_match_won_last_year_winner</th>\n",
       "      <th>...</th>\n",
       "      <th>exp_avg_1stWon_loser</th>\n",
       "      <th>exp_avg_2ndWon_loser</th>\n",
       "      <th>exp_avg_SvGms_loser</th>\n",
       "      <th>exp_avg_bpSaved_loser</th>\n",
       "      <th>exp_avg_bpFaced_loser</th>\n",
       "      <th>exp_avg_ranking_winner</th>\n",
       "      <th>exp_avg_ranking_loser</th>\n",
       "      <th>winner_age_days</th>\n",
       "      <th>loser_age_days</th>\n",
       "      <th>winner_player</th>\n",
       "    </tr>\n",
       "  </thead>\n",
       "  <tbody>\n",
       "    <tr>\n",
       "      <th>0</th>\n",
       "      <td>1</td>\n",
       "      <td>enqvist_t.</td>\n",
       "      <td>hewitt_l.</td>\n",
       "      <td>26.0</td>\n",
       "      <td>Outdoor</td>\n",
       "      <td>Hard</td>\n",
       "      <td>32</td>\n",
       "      <td>2000-01-03</td>\n",
       "      <td>0.0</td>\n",
       "      <td>0.0</td>\n",
       "      <td>...</td>\n",
       "      <td>1685.866667</td>\n",
       "      <td>1029.800000</td>\n",
       "      <td>659.066667</td>\n",
       "      <td>208.533333</td>\n",
       "      <td>326.600000</td>\n",
       "      <td>NaN</td>\n",
       "      <td>NaN</td>\n",
       "      <td>9427.0</td>\n",
       "      <td>6887.0</td>\n",
       "      <td>0</td>\n",
       "    </tr>\n",
       "    <tr>\n",
       "      <th>1</th>\n",
       "      <td>2</td>\n",
       "      <td>enqvist_t.</td>\n",
       "      <td>norman_m.</td>\n",
       "      <td>25.0</td>\n",
       "      <td>Outdoor</td>\n",
       "      <td>Hard</td>\n",
       "      <td>32</td>\n",
       "      <td>2000-01-03</td>\n",
       "      <td>1.0</td>\n",
       "      <td>0.0</td>\n",
       "      <td>...</td>\n",
       "      <td>2427.921260</td>\n",
       "      <td>1138.519685</td>\n",
       "      <td>866.606299</td>\n",
       "      <td>287.417323</td>\n",
       "      <td>456.173228</td>\n",
       "      <td>NaN</td>\n",
       "      <td>NaN</td>\n",
       "      <td>9427.0</td>\n",
       "      <td>8618.0</td>\n",
       "      <td>1</td>\n",
       "    </tr>\n",
       "    <tr>\n",
       "      <th>2</th>\n",
       "      <td>2</td>\n",
       "      <td>escude_n.</td>\n",
       "      <td>hewitt_l.</td>\n",
       "      <td>26.0</td>\n",
       "      <td>Outdoor</td>\n",
       "      <td>Hard</td>\n",
       "      <td>32</td>\n",
       "      <td>2000-01-03</td>\n",
       "      <td>0.0</td>\n",
       "      <td>0.0</td>\n",
       "      <td>...</td>\n",
       "      <td>1685.866667</td>\n",
       "      <td>1029.800000</td>\n",
       "      <td>659.066667</td>\n",
       "      <td>208.533333</td>\n",
       "      <td>326.600000</td>\n",
       "      <td>NaN</td>\n",
       "      <td>NaN</td>\n",
       "      <td>8675.0</td>\n",
       "      <td>6887.0</td>\n",
       "      <td>0</td>\n",
       "    </tr>\n",
       "    <tr>\n",
       "      <th>3</th>\n",
       "      <td>3</td>\n",
       "      <td>enqvist_t.</td>\n",
       "      <td>grosjean_s.</td>\n",
       "      <td>25.0</td>\n",
       "      <td>Outdoor</td>\n",
       "      <td>Hard</td>\n",
       "      <td>32</td>\n",
       "      <td>2000-01-03</td>\n",
       "      <td>2.0</td>\n",
       "      <td>1.0</td>\n",
       "      <td>...</td>\n",
       "      <td>1866.133333</td>\n",
       "      <td>1008.066667</td>\n",
       "      <td>698.733333</td>\n",
       "      <td>250.133333</td>\n",
       "      <td>402.000000</td>\n",
       "      <td>NaN</td>\n",
       "      <td>NaN</td>\n",
       "      <td>9427.0</td>\n",
       "      <td>7889.0</td>\n",
       "      <td>1</td>\n",
       "    </tr>\n",
       "    <tr>\n",
       "      <th>4</th>\n",
       "      <td>3</td>\n",
       "      <td>escude_n.</td>\n",
       "      <td>henman_t.</td>\n",
       "      <td>16.0</td>\n",
       "      <td>Outdoor</td>\n",
       "      <td>Hard</td>\n",
       "      <td>32</td>\n",
       "      <td>2000-01-03</td>\n",
       "      <td>1.0</td>\n",
       "      <td>0.0</td>\n",
       "      <td>...</td>\n",
       "      <td>2464.039370</td>\n",
       "      <td>1321.141732</td>\n",
       "      <td>913.283465</td>\n",
       "      <td>309.094488</td>\n",
       "      <td>467.228346</td>\n",
       "      <td>NaN</td>\n",
       "      <td>NaN</td>\n",
       "      <td>8675.0</td>\n",
       "      <td>9250.0</td>\n",
       "      <td>1</td>\n",
       "    </tr>\n",
       "    <tr>\n",
       "      <th>...</th>\n",
       "      <td>...</td>\n",
       "      <td>...</td>\n",
       "      <td>...</td>\n",
       "      <td>...</td>\n",
       "      <td>...</td>\n",
       "      <td>...</td>\n",
       "      <td>...</td>\n",
       "      <td>...</td>\n",
       "      <td>...</td>\n",
       "      <td>...</td>\n",
       "      <td>...</td>\n",
       "      <td>...</td>\n",
       "      <td>...</td>\n",
       "      <td>...</td>\n",
       "      <td>...</td>\n",
       "      <td>...</td>\n",
       "      <td>...</td>\n",
       "      <td>...</td>\n",
       "      <td>...</td>\n",
       "      <td>...</td>\n",
       "      <td>...</td>\n",
       "    </tr>\n",
       "    <tr>\n",
       "      <th>74104</th>\n",
       "      <td>3</td>\n",
       "      <td>wawrinka_s.</td>\n",
       "      <td>dimitrov_g.</td>\n",
       "      <td>20.0</td>\n",
       "      <td>Outdoor</td>\n",
       "      <td>Hard</td>\n",
       "      <td>32</td>\n",
       "      <td>2020-02-27</td>\n",
       "      <td>45.0</td>\n",
       "      <td>30.0</td>\n",
       "      <td>...</td>\n",
       "      <td>1205.998535</td>\n",
       "      <td>479.049567</td>\n",
       "      <td>409.073129</td>\n",
       "      <td>129.444756</td>\n",
       "      <td>204.878525</td>\n",
       "      <td>16.638602</td>\n",
       "      <td>23.988649</td>\n",
       "      <td>12754.0</td>\n",
       "      <td>10514.0</td>\n",
       "      <td>0</td>\n",
       "    </tr>\n",
       "    <tr>\n",
       "      <th>74105</th>\n",
       "      <td>3</td>\n",
       "      <td>nadal_r.</td>\n",
       "      <td>kwon_s.w.</td>\n",
       "      <td>15.0</td>\n",
       "      <td>Outdoor</td>\n",
       "      <td>Hard</td>\n",
       "      <td>32</td>\n",
       "      <td>2020-02-27</td>\n",
       "      <td>54.0</td>\n",
       "      <td>47.0</td>\n",
       "      <td>...</td>\n",
       "      <td>NaN</td>\n",
       "      <td>NaN</td>\n",
       "      <td>NaN</td>\n",
       "      <td>NaN</td>\n",
       "      <td>NaN</td>\n",
       "      <td>1.773402</td>\n",
       "      <td>85.363309</td>\n",
       "      <td>12322.0</td>\n",
       "      <td>NaN</td>\n",
       "      <td>1</td>\n",
       "    </tr>\n",
       "    <tr>\n",
       "      <th>74106</th>\n",
       "      <td>2</td>\n",
       "      <td>isner_j.</td>\n",
       "      <td>fritz_t.</td>\n",
       "      <td>29.0</td>\n",
       "      <td>Outdoor</td>\n",
       "      <td>Hard</td>\n",
       "      <td>32</td>\n",
       "      <td>2020-02-27</td>\n",
       "      <td>40.0</td>\n",
       "      <td>27.0</td>\n",
       "      <td>...</td>\n",
       "      <td>1075.555556</td>\n",
       "      <td>491.619048</td>\n",
       "      <td>379.904762</td>\n",
       "      <td>97.793651</td>\n",
       "      <td>161.698413</td>\n",
       "      <td>18.354751</td>\n",
       "      <td>34.429851</td>\n",
       "      <td>12725.0</td>\n",
       "      <td>8157.0</td>\n",
       "      <td>0</td>\n",
       "    </tr>\n",
       "    <tr>\n",
       "      <th>74107</th>\n",
       "      <td>2</td>\n",
       "      <td>nadal_r.</td>\n",
       "      <td>dimitrov_g.</td>\n",
       "      <td>17.0</td>\n",
       "      <td>Outdoor</td>\n",
       "      <td>Hard</td>\n",
       "      <td>32</td>\n",
       "      <td>2020-02-27</td>\n",
       "      <td>53.0</td>\n",
       "      <td>46.0</td>\n",
       "      <td>...</td>\n",
       "      <td>1205.998535</td>\n",
       "      <td>479.049567</td>\n",
       "      <td>409.073129</td>\n",
       "      <td>129.444756</td>\n",
       "      <td>204.878525</td>\n",
       "      <td>1.773402</td>\n",
       "      <td>23.988649</td>\n",
       "      <td>12322.0</td>\n",
       "      <td>10514.0</td>\n",
       "      <td>1</td>\n",
       "    </tr>\n",
       "    <tr>\n",
       "      <th>74108</th>\n",
       "      <td>1</td>\n",
       "      <td>fritz_t.</td>\n",
       "      <td>nadal_r.</td>\n",
       "      <td>17.0</td>\n",
       "      <td>Outdoor</td>\n",
       "      <td>Hard</td>\n",
       "      <td>32</td>\n",
       "      <td>2020-02-27</td>\n",
       "      <td>51.0</td>\n",
       "      <td>26.0</td>\n",
       "      <td>...</td>\n",
       "      <td>1403.106287</td>\n",
       "      <td>573.655912</td>\n",
       "      <td>475.829834</td>\n",
       "      <td>118.735778</td>\n",
       "      <td>173.931522</td>\n",
       "      <td>34.429851</td>\n",
       "      <td>1.773402</td>\n",
       "      <td>8157.0</td>\n",
       "      <td>12322.0</td>\n",
       "      <td>0</td>\n",
       "    </tr>\n",
       "  </tbody>\n",
       "</table>\n",
       "<p>74109 rows × 119 columns</p>\n",
       "</div>"
      ],
      "text/plain": [
       "       round       winner        loser  games_played    court surface  \\\n",
       "0          1   enqvist_t.    hewitt_l.          26.0  Outdoor    Hard   \n",
       "1          2   enqvist_t.    norman_m.          25.0  Outdoor    Hard   \n",
       "2          2    escude_n.    hewitt_l.          26.0  Outdoor    Hard   \n",
       "3          3   enqvist_t.  grosjean_s.          25.0  Outdoor    Hard   \n",
       "4          3    escude_n.    henman_t.          16.0  Outdoor    Hard   \n",
       "...      ...          ...          ...           ...      ...     ...   \n",
       "74104      3  wawrinka_s.  dimitrov_g.          20.0  Outdoor    Hard   \n",
       "74105      3     nadal_r.    kwon_s.w.          15.0  Outdoor    Hard   \n",
       "74106      2     isner_j.     fritz_t.          29.0  Outdoor    Hard   \n",
       "74107      2     nadal_r.  dimitrov_g.          17.0  Outdoor    Hard   \n",
       "74108      1     fritz_t.     nadal_r.          17.0  Outdoor    Hard   \n",
       "\n",
       "       tourney_singles_draw week_title  number_match_played_last_year_winner  \\\n",
       "0                        32 2000-01-03                                   0.0   \n",
       "1                        32 2000-01-03                                   1.0   \n",
       "2                        32 2000-01-03                                   0.0   \n",
       "3                        32 2000-01-03                                   2.0   \n",
       "4                        32 2000-01-03                                   1.0   \n",
       "...                     ...        ...                                   ...   \n",
       "74104                    32 2020-02-27                                  45.0   \n",
       "74105                    32 2020-02-27                                  54.0   \n",
       "74106                    32 2020-02-27                                  40.0   \n",
       "74107                    32 2020-02-27                                  53.0   \n",
       "74108                    32 2020-02-27                                  51.0   \n",
       "\n",
       "       number_match_won_last_year_winner  ...  exp_avg_1stWon_loser  \\\n",
       "0                                    0.0  ...           1685.866667   \n",
       "1                                    0.0  ...           2427.921260   \n",
       "2                                    0.0  ...           1685.866667   \n",
       "3                                    1.0  ...           1866.133333   \n",
       "4                                    0.0  ...           2464.039370   \n",
       "...                                  ...  ...                   ...   \n",
       "74104                               30.0  ...           1205.998535   \n",
       "74105                               47.0  ...                   NaN   \n",
       "74106                               27.0  ...           1075.555556   \n",
       "74107                               46.0  ...           1205.998535   \n",
       "74108                               26.0  ...           1403.106287   \n",
       "\n",
       "       exp_avg_2ndWon_loser  exp_avg_SvGms_loser  exp_avg_bpSaved_loser  \\\n",
       "0               1029.800000           659.066667             208.533333   \n",
       "1               1138.519685           866.606299             287.417323   \n",
       "2               1029.800000           659.066667             208.533333   \n",
       "3               1008.066667           698.733333             250.133333   \n",
       "4               1321.141732           913.283465             309.094488   \n",
       "...                     ...                  ...                    ...   \n",
       "74104            479.049567           409.073129             129.444756   \n",
       "74105                   NaN                  NaN                    NaN   \n",
       "74106            491.619048           379.904762              97.793651   \n",
       "74107            479.049567           409.073129             129.444756   \n",
       "74108            573.655912           475.829834             118.735778   \n",
       "\n",
       "       exp_avg_bpFaced_loser  exp_avg_ranking_winner  exp_avg_ranking_loser  \\\n",
       "0                 326.600000                     NaN                    NaN   \n",
       "1                 456.173228                     NaN                    NaN   \n",
       "2                 326.600000                     NaN                    NaN   \n",
       "3                 402.000000                     NaN                    NaN   \n",
       "4                 467.228346                     NaN                    NaN   \n",
       "...                      ...                     ...                    ...   \n",
       "74104             204.878525               16.638602              23.988649   \n",
       "74105                    NaN                1.773402              85.363309   \n",
       "74106             161.698413               18.354751              34.429851   \n",
       "74107             204.878525                1.773402              23.988649   \n",
       "74108             173.931522               34.429851               1.773402   \n",
       "\n",
       "       winner_age_days  loser_age_days  winner_player  \n",
       "0               9427.0          6887.0              0  \n",
       "1               9427.0          8618.0              1  \n",
       "2               8675.0          6887.0              0  \n",
       "3               9427.0          7889.0              1  \n",
       "4               8675.0          9250.0              1  \n",
       "...                ...             ...            ...  \n",
       "74104          12754.0         10514.0              0  \n",
       "74105          12322.0             NaN              1  \n",
       "74106          12725.0          8157.0              0  \n",
       "74107          12322.0         10514.0              1  \n",
       "74108           8157.0         12322.0              0  \n",
       "\n",
       "[74109 rows x 119 columns]"
      ]
     },
     "execution_count": 181,
     "metadata": {},
     "output_type": "execute_result"
    }
   ],
   "source": [
    "final_dataset"
   ]
  },
  {
   "cell_type": "markdown",
   "metadata": {
    "ExecuteTime": {
     "end_time": "2020-10-30T00:48:05.341941Z",
     "start_time": "2020-10-30T00:48:05.325632Z"
    }
   },
   "source": [
    "# Very first models"
   ]
  },
  {
   "cell_type": "code",
   "execution_count": 184,
   "metadata": {
    "ExecuteTime": {
     "end_time": "2020-10-30T14:10:16.402593Z",
     "start_time": "2020-10-30T14:10:16.046544Z"
    }
   },
   "outputs": [],
   "source": [
    "df=final_dataset.copy()\n",
    "df=df.rename(dict_col_rename,axis=1)\n",
    "train=df[df['week_title']<datetime.strptime('2016-01-01','%Y-%m-%d')]\n",
    "test=df[df['week_title']>=datetime.strptime('2016-01-01','%Y-%m-%d')]\n",
    "train=train.drop(['player_left','player_right','week_title','birthdate_player_right','birthdate_player_left'],axis=1).reset_index(drop=True)\n",
    "test=test.drop(['player_left','player_right','week_title','birthdate_player_right','birthdate_player_left'],axis=1).reset_index(drop=True)\n",
    "one_hot_train=pd.get_dummies(train.select_dtypes(exclude=[\"number\",\"bool_\"]))\n",
    "one_hot_test=pd.get_dummies(test.select_dtypes(exclude=[\"number\",\"bool_\"]))\n",
    "list_cat=train.select_dtypes(exclude=[\"number\",\"bool_\"]).columns\n",
    "train=pd.concat([train.drop(list_cat,axis=1),one_hot_train],axis=1)\n",
    "test=pd.concat([test.drop(list_cat,axis=1),one_hot_test],axis=1)"
   ]
  },
  {
   "cell_type": "markdown",
   "metadata": {},
   "source": [
    "Let us start by splitting the dataset into train and test. "
   ]
  },
  {
   "cell_type": "code",
   "execution_count": 203,
   "metadata": {
    "ExecuteTime": {
     "end_time": "2020-10-30T14:15:08.665494Z",
     "start_time": "2020-10-30T14:15:08.621355Z"
    }
   },
   "outputs": [],
   "source": [
    "x_test=test.drop('winner_player',axis=1)\n",
    "x_train=train.drop('winner_player',axis=1)\n",
    "y_test=test['winner_player']\n",
    "y_train=train['winner_player']"
   ]
  },
  {
   "cell_type": "markdown",
   "metadata": {},
   "source": [
    "Because of one-hot-encoding, some features have been created in the train and not in the test, we need to solve that. "
   ]
  },
  {
   "cell_type": "code",
   "execution_count": 208,
   "metadata": {
    "ExecuteTime": {
     "end_time": "2020-10-30T14:17:03.881484Z",
     "start_time": "2020-10-30T14:17:03.876487Z"
    }
   },
   "outputs": [],
   "source": [
    "for col in x_train.columns:\n",
    "    if col not in x_test.columns:\n",
    "        x_test[col]=0"
   ]
  },
  {
   "cell_type": "markdown",
   "metadata": {
    "ExecuteTime": {
     "end_time": "2020-10-30T01:03:35.701535Z",
     "start_time": "2020-10-30T01:03:35.574992Z"
    }
   },
   "source": [
    "## Predict only the highest rank"
   ]
  },
  {
   "cell_type": "code",
   "execution_count": 209,
   "metadata": {
    "ExecuteTime": {
     "end_time": "2020-10-30T14:17:38.275071Z",
     "start_time": "2020-10-30T14:17:38.232006Z"
    }
   },
   "outputs": [
    {
     "name": "stdout",
     "output_type": "stream",
     "text": [
      "Accuracy with best rank is  0.6331812877903893\n"
     ]
    }
   ],
   "source": [
    "x_test2=x_test.dropna(subset=['rank_player_right','rank_player_left'])\n",
    "dim1=x_test2[x_test2['rank_player_left']<x_test2['rank_player_right']].join(y_test)['winner_player'].value_counts()[1]\n",
    "dim2=x_test2[x_test2['rank_player_left']>x_test2['rank_player_right']].join(y_test)['winner_player'].value_counts()[0]\n",
    "print('Accuracy with best rank is ',(dim1+dim2)/len(x_test2))"
   ]
  },
  {
   "cell_type": "markdown",
   "metadata": {},
   "source": [
    "## Logistic regression - First Level"
   ]
  },
  {
   "cell_type": "code",
   "execution_count": 210,
   "metadata": {
    "ExecuteTime": {
     "end_time": "2020-10-30T14:17:43.639371Z",
     "start_time": "2020-10-30T14:17:42.435426Z"
    }
   },
   "outputs": [
    {
     "name": "stderr",
     "output_type": "stream",
     "text": [
      "C:\\Users\\jefo7\\anaconda3\\lib\\site-packages\\sklearn\\linear_model\\_logistic.py:762: ConvergenceWarning: lbfgs failed to converge (status=1):\n",
      "STOP: TOTAL NO. of ITERATIONS REACHED LIMIT.\n",
      "\n",
      "Increase the number of iterations (max_iter) or scale the data as shown in:\n",
      "    https://scikit-learn.org/stable/modules/preprocessing.html\n",
      "Please also refer to the documentation for alternative solver options:\n",
      "    https://scikit-learn.org/stable/modules/linear_model.html#logistic-regression\n",
      "  n_iter_i = _check_optimize_result(\n"
     ]
    },
    {
     "data": {
      "text/plain": [
       "0.6544397053121365"
      ]
     },
     "execution_count": 210,
     "metadata": {},
     "output_type": "execute_result"
    }
   ],
   "source": [
    "from sklearn.linear_model import LogisticRegression\n",
    "from sklearn.model_selection import train_test_split\n",
    "\n",
    "x_train3=x_train.fillna(x_train.mean())\n",
    "x_test3=x_test.fillna(x_test.mean())\n",
    "logisticRegr = LogisticRegression()\n",
    "logisticRegr.fit(x_train3, y_train)\n",
    "\n",
    "\n",
    "logisticRegr.score(x_test3, y_test)"
   ]
  }
 ],
 "metadata": {
  "kernelspec": {
   "display_name": "Python 3",
   "language": "python",
   "name": "python3"
  },
  "language_info": {
   "codemirror_mode": {
    "name": "ipython",
    "version": 3
   },
   "file_extension": ".py",
   "mimetype": "text/x-python",
   "name": "python",
   "nbconvert_exporter": "python",
   "pygments_lexer": "ipython3",
   "version": "3.8.3"
  },
  "toc": {
   "base_numbering": 1,
   "nav_menu": {},
   "number_sections": true,
   "sideBar": true,
   "skip_h1_title": false,
   "title_cell": "Table of Contents",
   "title_sidebar": "Contents",
   "toc_cell": false,
   "toc_position": {},
   "toc_section_display": true,
   "toc_window_display": true
  },
  "varInspector": {
   "cols": {
    "lenName": 16,
    "lenType": 16,
    "lenVar": 40
   },
   "kernels_config": {
    "python": {
     "delete_cmd_postfix": "",
     "delete_cmd_prefix": "del ",
     "library": "var_list.py",
     "varRefreshCmd": "print(var_dic_list())"
    },
    "r": {
     "delete_cmd_postfix": ") ",
     "delete_cmd_prefix": "rm(",
     "library": "var_list.r",
     "varRefreshCmd": "cat(var_dic_list()) "
    }
   },
   "types_to_exclude": [
    "module",
    "function",
    "builtin_function_or_method",
    "instance",
    "_Feature"
   ],
   "window_display": false
  }
 },
 "nbformat": 4,
 "nbformat_minor": 4
}
