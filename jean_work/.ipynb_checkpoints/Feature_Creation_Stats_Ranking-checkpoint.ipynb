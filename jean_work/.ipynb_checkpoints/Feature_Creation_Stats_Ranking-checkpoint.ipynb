{
 "cells": [
  {
   "cell_type": "code",
   "execution_count": 278,
   "metadata": {
    "ExecuteTime": {
     "end_time": "2020-10-16T14:49:01.705001Z",
     "start_time": "2020-10-16T14:49:01.699047Z"
    }
   },
   "outputs": [],
   "source": [
    "import pandas as pd\n",
    "from IPython.display import clear_output"
   ]
  },
  {
   "cell_type": "code",
   "execution_count": 233,
   "metadata": {
    "ExecuteTime": {
     "end_time": "2020-10-16T14:20:44.659854Z",
     "start_time": "2020-10-16T14:20:44.214128Z"
    }
   },
   "outputs": [],
   "source": [
    "data_players=pd.read_csv(r'processed_data/player_profiles_clean.csv').iloc[:,1:]\n",
    "all_games=pd.read_csv(r'processed_data/all_match_91_2020.csv')\n",
    "ranking_all=pd.read_csv(r'processed_data/ranking_91_2020_clean.csv').iloc[:,1:]"
   ]
  },
  {
   "cell_type": "code",
   "execution_count": 193,
   "metadata": {
    "ExecuteTime": {
     "end_time": "2020-10-16T14:01:28.460242Z",
     "start_time": "2020-10-16T14:01:28.441931Z"
    }
   },
   "outputs": [
    {
     "data": {
      "text/plain": [
       "106690"
      ]
     },
     "execution_count": 193,
     "metadata": {},
     "output_type": "execute_result"
    }
   ],
   "source": [
    "len_ref=len(all_games)\n",
    "len_ref"
   ]
  },
  {
   "cell_type": "markdown",
   "metadata": {},
   "source": [
    "First, need to group 'duplicates' in the dataframe"
   ]
  },
  {
   "cell_type": "code",
   "execution_count": 218,
   "metadata": {
    "ExecuteTime": {
     "end_time": "2020-10-16T14:10:23.853131Z",
     "start_time": "2020-10-16T14:10:03.792649Z"
    }
   },
   "outputs": [],
   "source": [
    "data_players=data_players.drop_duplicates(['player_name','year'])\n",
    "ranking_all=ranking_all.groupby(['unique_id','player_name','year','week_title']).mean().reset_index()"
   ]
  },
  {
   "cell_type": "markdown",
   "metadata": {
    "ExecuteTime": {
     "end_time": "2020-10-15T23:52:25.512790Z",
     "start_time": "2020-10-15T23:52:25.473337Z"
    }
   },
   "source": [
    "# Create the ranking of the player for the given match"
   ]
  },
  {
   "cell_type": "code",
   "execution_count": 234,
   "metadata": {
    "ExecuteTime": {
     "end_time": "2020-10-16T14:21:08.671673Z",
     "start_time": "2020-10-16T14:21:02.497423Z"
    }
   },
   "outputs": [],
   "source": [
    "all_games=all_games.merge(ranking_all[['unique_id','rank_number']],how='left',left_on='id_winner', right_on='unique_id').rename({'rank_number':'rank_winner'},axis=1).drop('unique_id',axis=1)\n",
    "all_games=all_games.merge(ranking_all[['unique_id','rank_number']],how='left',left_on='id_loser', right_on='unique_id').rename({'rank_number':'rank_loser'},axis=1).drop('unique_id',axis=1)"
   ]
  },
  {
   "cell_type": "markdown",
   "metadata": {},
   "source": [
    "# Add the height, birthdate, weight, player_hand, handedness, backhand, turned_pro"
   ]
  },
  {
   "cell_type": "code",
   "execution_count": 295,
   "metadata": {
    "ExecuteTime": {
     "end_time": "2020-10-16T15:29:08.672035Z",
     "start_time": "2020-10-16T15:29:07.934988Z"
    }
   },
   "outputs": [],
   "source": [
    "data_demo_players=data_players.drop_duplicates('player_name')\n",
    "\n",
    "all_games=all_games.merge(data_demo_players[['turned_pro','birthdate','player_hand','player_ht','weight_kg','handedness','backhand','player_name']]\n",
    "                ,how='left',left_on='winner', right_on='player_name').rename({'turned_pro':'turned_pro_winner',\n",
    "                                                                            'birthdate':'birthdate_winner',\n",
    "                                                                            'player_hand':'player_hand_winner',\n",
    "                                                                            'player_ht':'winner_height',\n",
    "                                                                            'weight_kg':'winner_weight',\n",
    "                                                                            'handedness':'winner_handedness',\n",
    "                                                                            'backhand':'winner_backhand'},axis=1).drop('player_name',axis=1)\n",
    "\n",
    "all_games=all_games.merge(data_demo_players[['turned_pro','birthdate','player_hand','player_ht','weight_kg','handedness','backhand','player_name']]\n",
    "                ,how='left',left_on='loser', right_on='player_name').rename({'turned_pro':'turned_pro_loser',\n",
    "                                                                            'birthdate':'birthdate_loser',\n",
    "                                                                            'player_hand':'player_hand_loser',\n",
    "                                                                            'player_ht':'loser_height',\n",
    "                                                                            'weight_kg':'loser_weight',\n",
    "                                                                            'handedness':'loser_handedness',\n",
    "                                                                            'backhand':'loser_backhand'},axis=1).drop('player_name',axis=1)"
   ]
  },
  {
   "cell_type": "markdown",
   "metadata": {
    "ExecuteTime": {
     "end_time": "2020-10-16T00:50:19.560520Z",
     "start_time": "2020-10-16T00:50:19.552947Z"
    }
   },
   "source": [
    "# Adding weighted average features based on time before. \n",
    "\n",
    "here I did an exponential average with a time of 2. <span class=\"burk\">That can be changed, as well as the sommothing parameter (2 by default in python.</span>\n",
    "\n",
    "## Games features"
   ]
  },
  {
   "cell_type": "code",
   "execution_count": 205,
   "metadata": {
    "ExecuteTime": {
     "end_time": "2020-10-16T14:04:46.158886Z",
     "start_time": "2020-10-16T14:04:46.103804Z"
    }
   },
   "outputs": [
    {
     "data": {
      "text/plain": [
       "Series([], Name: ace, dtype: float64)"
      ]
     },
     "execution_count": 205,
     "metadata": {},
     "output_type": "execute_result"
    }
   ],
   "source": [
    "def exponential_avg_stats_players(feature_name,player_name,time_period):\n",
    "    data=data_players[data_players['player_name']==player_name]\n",
    "    return (data[feature_name].ewm(span=time_period).mean())\n",
    "\n",
    "exponential_avg_stats_players('ace','piros_z.',2)"
   ]
  },
  {
   "cell_type": "code",
   "execution_count": 223,
   "metadata": {
    "ExecuteTime": {
     "end_time": "2020-10-16T14:14:08.193810Z",
     "start_time": "2020-10-16T14:11:15.425755Z"
    }
   },
   "outputs": [],
   "source": [
    "list_features_exp_avg=['ace',\n",
    "       'df', 'svpt', '1stIn', '1stWon', '2ndWon', 'SvGms', 'bpSaved',\n",
    "       'bpFaced']\n",
    "\n",
    "for feature in list_features_exp_avg:\n",
    "    for player in data_players['player_name'].unique():\n",
    "        data_players.loc[data_players['player_name']==player,'exp_avg_'+feature]=exponential_avg_stats_players(feature,player,3)"
   ]
  },
  {
   "cell_type": "markdown",
   "metadata": {},
   "source": [
    "We can now add them to the dataset with the game. "
   ]
  },
  {
   "cell_type": "code",
   "execution_count": 239,
   "metadata": {
    "ExecuteTime": {
     "end_time": "2020-10-16T14:22:56.438821Z",
     "start_time": "2020-10-16T14:22:55.514241Z"
    }
   },
   "outputs": [],
   "source": [
    "all_games=pd.merge(all_games,data_players[['exp_avg_'+list_features_exp_avg[k] for k in range (len(list_features_exp_avg))]+['year','player_name']],\n",
    "                how='left',left_on=['year','winner'], right_on=['year','player_name']).drop('player_name',axis=1)\n",
    "for col in ['exp_avg_'+list_features_exp_avg[k] for k in range (len(list_features_exp_avg))]:\n",
    "    all_games=all_games.rename({col:col+'_winner'},axis=1)\n",
    "    \n",
    "all_games=pd.merge(all_games,data_players[['exp_avg_'+list_features_exp_avg[k] for k in range (len(list_features_exp_avg))]+['year','player_name']],\n",
    "                how='left',left_on=['year','loser'], right_on=['year','player_name']).drop('player_name',axis=1)\n",
    "for col in ['exp_avg_'+list_features_exp_avg[k] for k in range (len(list_features_exp_avg))]:\n",
    "    all_games=all_games.rename({col:col+'_loser'},axis=1)    "
   ]
  },
  {
   "cell_type": "code",
   "execution_count": 231,
   "metadata": {
    "ExecuteTime": {
     "end_time": "2020-10-16T14:19:47.611763Z",
     "start_time": "2020-10-16T14:19:46.741790Z"
    }
   },
   "outputs": [],
   "source": [
    "for col in ['exp_avg_'+list_features_exp_avg[k] for k in range (len(list_features_exp_avg))]:\n",
    "    all_games=all_games.rename({col:col+'_winner'},axis=1)"
   ]
  },
  {
   "cell_type": "markdown",
   "metadata": {
    "ExecuteTime": {
     "end_time": "2020-10-16T14:28:18.629671Z",
     "start_time": "2020-10-16T14:28:18.623362Z"
    }
   },
   "source": [
    "## Ranking features"
   ]
  },
  {
   "cell_type": "code",
   "execution_count": 262,
   "metadata": {
    "ExecuteTime": {
     "end_time": "2020-10-16T14:39:07.478967Z",
     "start_time": "2020-10-16T14:39:07.109935Z"
    }
   },
   "outputs": [
    {
     "data": {
      "text/plain": [
       "1883276    1754.000000\n",
       "1883277    1756.750000\n",
       "1883278    1757.654485\n",
       "1883279    1756.779950\n",
       "1883280    1757.704339\n",
       "              ...     \n",
       "1883372     736.068545\n",
       "1883373     718.965173\n",
       "1883374     703.516960\n",
       "1883375     689.422967\n",
       "1883376     646.436973\n",
       "Name: rank_number, Length: 101, dtype: float64"
      ]
     },
     "execution_count": 262,
     "metadata": {},
     "output_type": "execute_result"
    }
   ],
   "source": [
    "def exponential_avg_ranking_players(player_name,time_period):\n",
    "    data=ranking_all[ranking_all['player_name']==player_name]\n",
    "    return (data['rank_number'].ewm(span=time_period).mean())\n",
    "\n",
    "exponential_avg_ranking_players('piros_z.',10)"
   ]
  },
  {
   "cell_type": "markdown",
   "metadata": {
    "ExecuteTime": {
     "end_time": "2020-10-16T14:42:44.982479Z",
     "start_time": "2020-10-16T14:42:44.959432Z"
    }
   },
   "source": [
    "<span class=\"burk\">Warning: We should work only on the loser players instead of the ranking dataset, since the ranking dataset has many much players than the all_games (13000 vs 3500).</span> "
   ]
  },
  {
   "cell_type": "code",
   "execution_count": 284,
   "metadata": {
    "ExecuteTime": {
     "end_time": "2020-10-16T15:20:45.083036Z",
     "start_time": "2020-10-16T15:03:35.863177Z"
    }
   },
   "outputs": [
    {
     "name": "stdout",
     "output_type": "stream",
     "text": [
      "3500\n"
     ]
    }
   ],
   "source": [
    "k=1\n",
    "for player in all_games['loser'].unique():\n",
    "    if k%100==0:\n",
    "        clear_output(wait=True)\n",
    "        print(k)\n",
    "    ranking_all.loc[ranking_all['player_name']==player,'exp_avg_ranking']=exponential_avg_ranking_players(player,5)\n",
    "    k+=1\n",
    "    "
   ]
  },
  {
   "cell_type": "code",
   "execution_count": 287,
   "metadata": {
    "ExecuteTime": {
     "end_time": "2020-10-16T15:22:32.278008Z",
     "start_time": "2020-10-16T15:22:32.267065Z"
    }
   },
   "outputs": [
    {
     "data": {
      "text/plain": [
       "Index(['year', 'round', 'winner', 'loser', 'games_played', 'court', 'surface',\n",
       "       'tourney_singles_draw', 'tournoi_unique_id', 'week_title', 'id_winner',\n",
       "       'id_loser', 'rank_winner', 'rank_loser', 'exp_avg_ace_winner',\n",
       "       'exp_avg_df_winner', 'exp_avg_svpt_winner', 'exp_avg_1stIn_winner',\n",
       "       'exp_avg_1stWon_winner', 'exp_avg_2ndWon_winner',\n",
       "       'exp_avg_SvGms_winner', 'exp_avg_bpSaved_winner',\n",
       "       'exp_avg_bpFaced_winner', 'exp_avg_ace_loser', 'exp_avg_df_loser',\n",
       "       'exp_avg_svpt_loser', 'exp_avg_1stIn_loser', 'exp_avg_1stWon_loser',\n",
       "       'exp_avg_2ndWon_loser', 'exp_avg_SvGms_loser', 'exp_avg_bpSaved_loser',\n",
       "       'exp_avg_bpFaced_loser'],\n",
       "      dtype='object')"
      ]
     },
     "execution_count": 287,
     "metadata": {},
     "output_type": "execute_result"
    }
   ],
   "source": [
    "all_games.columns"
   ]
  },
  {
   "cell_type": "code",
   "execution_count": 289,
   "metadata": {
    "ExecuteTime": {
     "end_time": "2020-10-16T15:25:46.225215Z",
     "start_time": "2020-10-16T15:25:42.824245Z"
    }
   },
   "outputs": [],
   "source": [
    "all_games=all_games.merge(ranking_all[['unique_id','exp_avg_ranking']],how='left',left_on='id_winner',right_on='unique_id').rename({'exp_avg_ranking':'exp_avg_ranking_winner'},axis=1).drop('unique_id',axis=1)\n",
    "all_games=all_games.merge(ranking_all[['unique_id','exp_avg_ranking']],how='left',left_on='id_loser',right_on='unique_id').rename({'exp_avg_ranking':'exp_avg_ranking_loser'},axis=1).drop('unique_id',axis=1)"
   ]
  },
  {
   "cell_type": "markdown",
   "metadata": {},
   "source": [
    "# Final Dataset obtaining "
   ]
  },
  {
   "cell_type": "code",
   "execution_count": 296,
   "metadata": {
    "ExecuteTime": {
     "end_time": "2020-10-16T15:29:15.389366Z",
     "start_time": "2020-10-16T15:29:15.382427Z"
    }
   },
   "outputs": [
    {
     "data": {
      "text/plain": [
       "Index(['year', 'round', 'winner', 'loser', 'games_played', 'court', 'surface',\n",
       "       'tourney_singles_draw', 'tournoi_unique_id', 'week_title', 'id_winner',\n",
       "       'id_loser', 'rank_winner', 'rank_loser', 'exp_avg_ace_winner',\n",
       "       'exp_avg_df_winner', 'exp_avg_svpt_winner', 'exp_avg_1stIn_winner',\n",
       "       'exp_avg_1stWon_winner', 'exp_avg_2ndWon_winner',\n",
       "       'exp_avg_SvGms_winner', 'exp_avg_bpSaved_winner',\n",
       "       'exp_avg_bpFaced_winner', 'exp_avg_ace_loser', 'exp_avg_df_loser',\n",
       "       'exp_avg_svpt_loser', 'exp_avg_1stIn_loser', 'exp_avg_1stWon_loser',\n",
       "       'exp_avg_2ndWon_loser', 'exp_avg_SvGms_loser', 'exp_avg_bpSaved_loser',\n",
       "       'exp_avg_bpFaced_loser', 'exp_avg_ranking_winner',\n",
       "       'exp_avg_ranking_loser', 'turned_pro_winner', 'birthdate_winner',\n",
       "       'player_hand_winner', 'winner_height', 'winner_weight',\n",
       "       'winner_handedness', 'winner_backhand', 'turned_pro_loser',\n",
       "       'birthdate_loser', 'player_hand_loser', 'loser_height', 'loser_weight',\n",
       "       'loser_handedness', 'loser_backhand'],\n",
       "      dtype='object')"
      ]
     },
     "execution_count": 296,
     "metadata": {},
     "output_type": "execute_result"
    }
   ],
   "source": [
    "all_games.columns"
   ]
  },
  {
   "cell_type": "markdown",
   "metadata": {},
   "source": [
    "# Other features we could add in the future\n",
    "\n",
    "With Noé, we also thought about other features that we could add in the future. We prefered keeping them in mind but not using them, in order to work on a first dataset, and then improve it. \n",
    "Here is a (non exhoaustive) list of them: \n",
    "- Nationality/location of the tournament\n",
    "- Nb tourney won by each pleayer\n",
    "- slope of the ranking\n",
    "- relative difference within a year of ranking."
   ]
  }
 ],
 "metadata": {
  "kernelspec": {
   "display_name": "Python 3",
   "language": "python",
   "name": "python3"
  },
  "toc": {
   "base_numbering": 1,
   "nav_menu": {},
   "number_sections": true,
   "sideBar": true,
   "skip_h1_title": false,
   "title_cell": "Table of Contents",
   "title_sidebar": "Contents",
   "toc_cell": false,
   "toc_position": {},
   "toc_section_display": true,
   "toc_window_display": false
  },
  "varInspector": {
   "cols": {
    "lenName": 16,
    "lenType": 16,
    "lenVar": 40
   },
   "kernels_config": {
    "python": {
     "delete_cmd_postfix": "",
     "delete_cmd_prefix": "del ",
     "library": "var_list.py",
     "varRefreshCmd": "print(var_dic_list())"
    },
    "r": {
     "delete_cmd_postfix": ") ",
     "delete_cmd_prefix": "rm(",
     "library": "var_list.r",
     "varRefreshCmd": "cat(var_dic_list()) "
    }
   },
   "types_to_exclude": [
    "module",
    "function",
    "builtin_function_or_method",
    "instance",
    "_Feature"
   ],
   "window_display": false
  }
 },
 "nbformat": 4,
 "nbformat_minor": 4
}
