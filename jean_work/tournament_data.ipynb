{
 "cells": [
  {
   "cell_type": "code",
   "execution_count": 1,
   "metadata": {},
   "outputs": [],
   "source": [
    "import pandas as pd\n",
    "import string\n",
    "import datetime\n",
    "from datetime import datetime\n",
    "from datetime import timedelta\n",
    "import numpy as np\n",
    "import os\n",
    "\n",
    "from random import random\n",
    "\n",
    "import warnings\n",
    "warnings.filterwarnings('ignore')"
   ]
  },
  {
   "cell_type": "code",
   "execution_count": 2,
   "metadata": {},
   "outputs": [],
   "source": [
    "df_tournois=pd.read_csv('..\\\\raw_data\\\\tournaments_1877-2017_unindexed_csv.csv')\n",
    "df_tournois=df_tournois[df_tournois['tourney_year']>=1991]\n",
    "dict_tournoi=df_tournois[['tourney_year','tourney_dates','tourney_slug','tourney_name','tourney_conditions','tourney_location','tourney_singles_draw','tourney_surface']]\n",
    "dict_tournoi['tourney_dates']=pd.to_datetime(dict_tournoi['tourney_dates'])\n",
    "\n",
    "#We don't have data for years from 2018 to 2020, let's assume that tournament haven't change in these 3 years\n",
    "#We can then add lines corresponding to tournaments from 2018 to 2020\n",
    "tournois_2017=dict_tournoi[dict_tournoi['tourney_year']==2017]\n",
    "k=1\n",
    "for year in range (2018,2021):\n",
    "    df_year=tournois_2017\n",
    "    df_year['tourney_year']=year\n",
    "    df_year['tourney_dates']=pd.to_datetime(df_year['tourney_dates'])\n",
    "    df_year['tourney_dates']=df_year['tourney_dates']+timedelta(days=365)\n",
    "    k+=1\n",
    "    dict_tournoi=pd.concat([dict_tournoi,df_year])\n",
    "dict_tournoi['tourney_dates']=dict_tournoi['tourney_dates'].apply(lambda x:x.strftime('%Y-%m-%d'))\n",
    "\n",
    "#Create a function to avoid problems with location formatin over time\n",
    "def change_loc(location):\n",
    "    location=str(location).split(',')[0]\n",
    "    return location\n",
    "\n",
    "# just take the city name if the location format is city, country\n",
    "dict_tournoi['tourney_location']=dict_tournoi['tourney_location'].apply(lambda x:change_loc(x))\n",
    "# create a code for each tournament instance\n",
    "dict_tournoi['tournoi_unique_id']=dict_tournoi['tourney_year'].astype(str)+'-'+dict_tournoi['tourney_location'].apply(lambda x:str(x).lower())+'-'+dict_tournoi['tourney_surface'].apply(lambda x:str(x).lower())\n",
    "# create a list of duplicate tournament codes\n",
    "#list_not_unique_2=dict_tournoi['tournoi_unique_id'].value_counts()[dict_tournoi['tournoi_unique_id'].value_counts()>1]\n",
    "# create another code for each tournament instance\n",
    "dict_tournoi['unique_slug']=dict_tournoi['tourney_year'].apply(lambda x:str(x))+'-'+dict_tournoi['tourney_slug']\n",
    "# drop the generic slug column\n",
    "dict_tournoi=dict_tournoi.drop('tourney_slug',axis=1).reset_index(drop=True)\n",
    "\n",
    "#Here some 'tournoi_unique_id' are not unique, mainly because of Queens and wimbledon\n",
    "list_not_unique=dict_tournoi['tournoi_unique_id'].value_counts()[dict_tournoi['tournoi_unique_id'].value_counts()>1]\n",
    "dict_tournoi.loc[dict_tournoi['tournoi_unique_id'].isin(list_not_unique.index),'tournoi_unique_id']=dict_tournoi.loc[dict_tournoi['tournoi_unique_id'].isin(list_not_unique.index)]['tournoi_unique_id']+'-'+dict_tournoi.loc[dict_tournoi['tournoi_unique_id'].isin(list_not_unique.index)]['tourney_singles_draw'].apply(lambda x:str(x))\n",
    "list_not_unique_2=dict_tournoi['tournoi_unique_id'].value_counts()[dict_tournoi['tournoi_unique_id'].value_counts()>1]\n",
    "dict_tournoi=dict_tournoi[~dict_tournoi['tournoi_unique_id'].isin(list_not_unique_2.index)]\n",
    "\n",
    "# add a binary column with 1 for major tournaments\n",
    "majors = [\"Wimbledon\", \"Roland Garros\", \"US Open\", \"Australian Open\"]\n",
    "dict_tournoi['d_major'] = np.zeros(dict_tournoi.shape[0])\n",
    "dict_tournoi.loc[dict_tournoi['tourney_name'].isin(majors),'d_major'] = 1"
   ]
  },
  {
   "cell_type": "code",
   "execution_count": 3,
   "metadata": {},
   "outputs": [],
   "source": [
    "dict_tournoi.to_csv(\"processed_data\\\\tournaments_clean.csv\")"
   ]
  },
  {
   "cell_type": "code",
   "execution_count": null,
   "metadata": {},
   "outputs": [],
   "source": []
  }
 ],
 "metadata": {
  "kernelspec": {
   "display_name": "Python 3",
   "language": "python",
   "name": "python3"
  },
  "language_info": {
   "codemirror_mode": {
    "name": "ipython",
    "version": 3
   },
   "file_extension": ".py",
   "mimetype": "text/x-python",
   "name": "python",
   "nbconvert_exporter": "python",
   "pygments_lexer": "ipython3",
   "version": "3.7.6"
  }
 },
 "nbformat": 4,
 "nbformat_minor": 4
}
