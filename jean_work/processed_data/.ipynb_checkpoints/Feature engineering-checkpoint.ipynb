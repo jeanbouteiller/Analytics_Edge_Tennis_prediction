{
 "cells": [
  {
   "cell_type": "code",
   "execution_count": 1,
   "metadata": {
    "ExecuteTime": {
     "end_time": "2020-10-30T00:17:59.236759Z",
     "start_time": "2020-10-30T00:17:51.401198Z"
    }
   },
   "outputs": [],
   "source": [
    "import pandas as pd\n",
    "import requests\n",
    "import io\n",
    "import matplotlib.pyplot as plt\n",
    "import pylab\n",
    "from datetime import timedelta\n",
    "from tqdm.notebook import tqdm as tqdm\n",
    "import numpy as np\n",
    "\n",
    "def figsize(width=10,length=10):\n",
    "    pylab.rcParams['figure.figsize'] = width, length"
   ]
  },
  {
   "cell_type": "code",
   "execution_count": 2,
   "metadata": {
    "ExecuteTime": {
     "end_time": "2020-10-30T00:17:59.272277Z",
     "start_time": "2020-10-30T00:17:59.252093Z"
    }
   },
   "outputs": [],
   "source": [
    "base_url = 'https://media.githubusercontent.com/media/jeanbouteiller/Analytics_Edge_Tennis_prediction/master/jean_work/processed_data/'\n"
   ]
  },
  {
   "cell_type": "code",
   "execution_count": 3,
   "metadata": {
    "ExecuteTime": {
     "end_time": "2020-10-30T00:18:04.341063Z",
     "start_time": "2020-10-30T00:17:59.303240Z"
    }
   },
   "outputs": [],
   "source": [
    "url_all_matches = base_url + 'all_match_91_2020.csv'\n",
    "#url_players = base_url + 'player_profiles_clean.csv'\n",
    "#url_ranking = base_url + 'ranking_91_2020_clean.csv'\n",
    "\n",
    "download_all_matches = requests.get(url_all_matches).content\n",
    "#download_players = requests.get(url_players).content\n",
    "#download_ranking = requests.get(url_ranking).content"
   ]
  },
  {
   "cell_type": "code",
   "execution_count": 4,
   "metadata": {
    "scrolled": false
   },
   "outputs": [],
   "source": [
    "matches = pd.read_csv(io.StringIO(download_all_matches.decode()))\n",
    "#players = pd.read_csv(io.StringIO(download_players.decode()))\n",
    "#ranking = pd.read_csv(io.StringIO(download_ranking.decode()))"
   ]
  },
  {
   "cell_type": "code",
   "execution_count": 5,
   "metadata": {},
   "outputs": [],
   "source": [
    "url_ranking_avg = base_url + 'ranking_average_all.csv'\n",
    "download_ranking_avg = requests.get(url_ranking_avg).content"
   ]
  },
  {
   "cell_type": "code",
   "execution_count": 6,
   "metadata": {},
   "outputs": [],
   "source": [
    "ranking_all = pd.read_csv(io.StringIO(download_ranking_avg.decode()))"
   ]
  },
  {
   "cell_type": "markdown",
   "metadata": {},
   "source": [
    "## Matches"
   ]
  },
  {
   "cell_type": "markdown",
   "metadata": {},
   "source": [
    "### Data analysis"
   ]
  },
  {
   "cell_type": "code",
   "execution_count": 8,
   "metadata": {},
   "outputs": [
    {
     "data": {
      "text/html": [
       "<div>\n",
       "<style scoped>\n",
       "    .dataframe tbody tr th:only-of-type {\n",
       "        vertical-align: middle;\n",
       "    }\n",
       "\n",
       "    .dataframe tbody tr th {\n",
       "        vertical-align: top;\n",
       "    }\n",
       "\n",
       "    .dataframe thead th {\n",
       "        text-align: right;\n",
       "    }\n",
       "</style>\n",
       "<table border=\"1\" class=\"dataframe\">\n",
       "  <thead>\n",
       "    <tr style=\"text-align: right;\">\n",
       "      <th></th>\n",
       "      <th>year</th>\n",
       "      <th>round</th>\n",
       "      <th>winner</th>\n",
       "      <th>loser</th>\n",
       "      <th>games_played</th>\n",
       "      <th>court</th>\n",
       "      <th>surface</th>\n",
       "      <th>tourney_singles_draw</th>\n",
       "      <th>tournoi_unique_id</th>\n",
       "      <th>week_title</th>\n",
       "      <th>id_winner</th>\n",
       "      <th>id_loser</th>\n",
       "    </tr>\n",
       "  </thead>\n",
       "  <tbody>\n",
       "    <tr>\n",
       "      <th>0</th>\n",
       "      <td>1991</td>\n",
       "      <td>1.0</td>\n",
       "      <td>novacek_k.</td>\n",
       "      <td>fleurian_j.</td>\n",
       "      <td>26.0</td>\n",
       "      <td>Outdoor</td>\n",
       "      <td>Hard</td>\n",
       "      <td>32</td>\n",
       "      <td>1991-auckland-hard</td>\n",
       "      <td>1991-01-07</td>\n",
       "      <td>novacek_k.1991-01-07</td>\n",
       "      <td>fleurian_j.1991-01-07</td>\n",
       "    </tr>\n",
       "    <tr>\n",
       "      <th>1</th>\n",
       "      <td>1991</td>\n",
       "      <td>2.0</td>\n",
       "      <td>novacek_k.</td>\n",
       "      <td>vajda_m.</td>\n",
       "      <td>26.0</td>\n",
       "      <td>Outdoor</td>\n",
       "      <td>Hard</td>\n",
       "      <td>32</td>\n",
       "      <td>1991-auckland-hard</td>\n",
       "      <td>1991-01-07</td>\n",
       "      <td>novacek_k.1991-01-07</td>\n",
       "      <td>vajda_m.1991-01-07</td>\n",
       "    </tr>\n",
       "    <tr>\n",
       "      <th>2</th>\n",
       "      <td>1991</td>\n",
       "      <td>2.0</td>\n",
       "      <td>fleurian_j.</td>\n",
       "      <td>mattar_l.</td>\n",
       "      <td>28.0</td>\n",
       "      <td>Outdoor</td>\n",
       "      <td>Hard</td>\n",
       "      <td>32</td>\n",
       "      <td>1991-auckland-hard</td>\n",
       "      <td>1991-01-07</td>\n",
       "      <td>fleurian_j.1991-01-07</td>\n",
       "      <td>mattar_l.1991-01-07</td>\n",
       "    </tr>\n",
       "    <tr>\n",
       "      <th>3</th>\n",
       "      <td>1991</td>\n",
       "      <td>3.0</td>\n",
       "      <td>fleurian_j.</td>\n",
       "      <td>sanchez_e.</td>\n",
       "      <td>21.0</td>\n",
       "      <td>Outdoor</td>\n",
       "      <td>Hard</td>\n",
       "      <td>32</td>\n",
       "      <td>1991-auckland-hard</td>\n",
       "      <td>1991-01-07</td>\n",
       "      <td>fleurian_j.1991-01-07</td>\n",
       "      <td>sanchez_e.1991-01-07</td>\n",
       "    </tr>\n",
       "    <tr>\n",
       "      <th>4</th>\n",
       "      <td>1991</td>\n",
       "      <td>3.0</td>\n",
       "      <td>novacek_k.</td>\n",
       "      <td>jonsson_l.</td>\n",
       "      <td>0.0</td>\n",
       "      <td>Outdoor</td>\n",
       "      <td>Hard</td>\n",
       "      <td>32</td>\n",
       "      <td>1991-auckland-hard</td>\n",
       "      <td>1991-01-07</td>\n",
       "      <td>novacek_k.1991-01-07</td>\n",
       "      <td>jonsson_l.1991-01-07</td>\n",
       "    </tr>\n",
       "  </tbody>\n",
       "</table>\n",
       "</div>"
      ],
      "text/plain": [
       "   year  round       winner        loser  games_played    court surface  \\\n",
       "0  1991    1.0   novacek_k.  fleurian_j.          26.0  Outdoor    Hard   \n",
       "1  1991    2.0   novacek_k.     vajda_m.          26.0  Outdoor    Hard   \n",
       "2  1991    2.0  fleurian_j.    mattar_l.          28.0  Outdoor    Hard   \n",
       "3  1991    3.0  fleurian_j.   sanchez_e.          21.0  Outdoor    Hard   \n",
       "4  1991    3.0   novacek_k.   jonsson_l.           0.0  Outdoor    Hard   \n",
       "\n",
       "   tourney_singles_draw   tournoi_unique_id  week_title  \\\n",
       "0                    32  1991-auckland-hard  1991-01-07   \n",
       "1                    32  1991-auckland-hard  1991-01-07   \n",
       "2                    32  1991-auckland-hard  1991-01-07   \n",
       "3                    32  1991-auckland-hard  1991-01-07   \n",
       "4                    32  1991-auckland-hard  1991-01-07   \n",
       "\n",
       "               id_winner               id_loser  \n",
       "0   novacek_k.1991-01-07  fleurian_j.1991-01-07  \n",
       "1   novacek_k.1991-01-07     vajda_m.1991-01-07  \n",
       "2  fleurian_j.1991-01-07    mattar_l.1991-01-07  \n",
       "3  fleurian_j.1991-01-07   sanchez_e.1991-01-07  \n",
       "4   novacek_k.1991-01-07   jonsson_l.1991-01-07  "
      ]
     },
     "execution_count": 8,
     "metadata": {},
     "output_type": "execute_result"
    }
   ],
   "source": [
    "matches.head()"
   ]
  },
  {
   "cell_type": "code",
   "execution_count": 9,
   "metadata": {},
   "outputs": [
    {
     "name": "stdout",
     "output_type": "stream",
     "text": [
      "<class 'pandas.core.frame.DataFrame'>\n",
      "RangeIndex: 106690 entries, 0 to 106689\n",
      "Data columns (total 12 columns):\n",
      " #   Column                Non-Null Count   Dtype  \n",
      "---  ------                --------------   -----  \n",
      " 0   year                  106690 non-null  int64  \n",
      " 1   round                 106666 non-null  float64\n",
      " 2   winner                106690 non-null  object \n",
      " 3   loser                 106690 non-null  object \n",
      " 4   games_played          106690 non-null  float64\n",
      " 5   court                 106690 non-null  object \n",
      " 6   surface               106690 non-null  object \n",
      " 7   tourney_singles_draw  106690 non-null  int64  \n",
      " 8   tournoi_unique_id     106690 non-null  object \n",
      " 9   week_title            106690 non-null  object \n",
      " 10  id_winner             106690 non-null  object \n",
      " 11  id_loser              106690 non-null  object \n",
      "dtypes: float64(2), int64(2), object(8)\n",
      "memory usage: 9.8+ MB\n"
     ]
    }
   ],
   "source": [
    "matches.info()"
   ]
  },
  {
   "cell_type": "code",
   "execution_count": 10,
   "metadata": {},
   "outputs": [
    {
     "data": {
      "text/html": [
       "<div>\n",
       "<style scoped>\n",
       "    .dataframe tbody tr th:only-of-type {\n",
       "        vertical-align: middle;\n",
       "    }\n",
       "\n",
       "    .dataframe tbody tr th {\n",
       "        vertical-align: top;\n",
       "    }\n",
       "\n",
       "    .dataframe thead th {\n",
       "        text-align: right;\n",
       "    }\n",
       "</style>\n",
       "<table border=\"1\" class=\"dataframe\">\n",
       "  <thead>\n",
       "    <tr style=\"text-align: right;\">\n",
       "      <th></th>\n",
       "      <th>year</th>\n",
       "      <th>round</th>\n",
       "      <th>games_played</th>\n",
       "      <th>tourney_singles_draw</th>\n",
       "    </tr>\n",
       "  </thead>\n",
       "  <tbody>\n",
       "    <tr>\n",
       "      <th>count</th>\n",
       "      <td>106690.000000</td>\n",
       "      <td>106666.000000</td>\n",
       "      <td>106690.000000</td>\n",
       "      <td>106690.000000</td>\n",
       "    </tr>\n",
       "    <tr>\n",
       "      <th>mean</th>\n",
       "      <td>2005.230228</td>\n",
       "      <td>5.281608</td>\n",
       "      <td>24.282922</td>\n",
       "      <td>57.450708</td>\n",
       "    </tr>\n",
       "    <tr>\n",
       "      <th>std</th>\n",
       "      <td>8.314145</td>\n",
       "      <td>1.829638</td>\n",
       "      <td>8.299030</td>\n",
       "      <td>36.984111</td>\n",
       "    </tr>\n",
       "    <tr>\n",
       "      <th>min</th>\n",
       "      <td>1991.000000</td>\n",
       "      <td>1.000000</td>\n",
       "      <td>0.000000</td>\n",
       "      <td>8.000000</td>\n",
       "    </tr>\n",
       "    <tr>\n",
       "      <th>25%</th>\n",
       "      <td>1998.000000</td>\n",
       "      <td>4.000000</td>\n",
       "      <td>18.000000</td>\n",
       "      <td>32.000000</td>\n",
       "    </tr>\n",
       "    <tr>\n",
       "      <th>50%</th>\n",
       "      <td>2006.000000</td>\n",
       "      <td>5.000000</td>\n",
       "      <td>22.000000</td>\n",
       "      <td>32.000000</td>\n",
       "    </tr>\n",
       "    <tr>\n",
       "      <th>75%</th>\n",
       "      <td>2012.000000</td>\n",
       "      <td>6.000000</td>\n",
       "      <td>29.000000</td>\n",
       "      <td>64.000000</td>\n",
       "    </tr>\n",
       "    <tr>\n",
       "      <th>max</th>\n",
       "      <td>2020.000000</td>\n",
       "      <td>10.000000</td>\n",
       "      <td>70.000000</td>\n",
       "      <td>128.000000</td>\n",
       "    </tr>\n",
       "  </tbody>\n",
       "</table>\n",
       "</div>"
      ],
      "text/plain": [
       "                year          round   games_played  tourney_singles_draw\n",
       "count  106690.000000  106666.000000  106690.000000         106690.000000\n",
       "mean     2005.230228       5.281608      24.282922             57.450708\n",
       "std         8.314145       1.829638       8.299030             36.984111\n",
       "min      1991.000000       1.000000       0.000000              8.000000\n",
       "25%      1998.000000       4.000000      18.000000             32.000000\n",
       "50%      2006.000000       5.000000      22.000000             32.000000\n",
       "75%      2012.000000       6.000000      29.000000             64.000000\n",
       "max      2020.000000      10.000000      70.000000            128.000000"
      ]
     },
     "execution_count": 10,
     "metadata": {},
     "output_type": "execute_result"
    }
   ],
   "source": [
    "matches.describe()"
   ]
  },
  {
   "cell_type": "code",
   "execution_count": 11,
   "metadata": {},
   "outputs": [
    {
     "data": {
      "text/plain": [
       "year                        30\n",
       "round                       10\n",
       "winner                    2102\n",
       "loser                     3581\n",
       "games_played                68\n",
       "court                        2\n",
       "surface                      4\n",
       "tourney_singles_draw        13\n",
       "tournoi_unique_id         2048\n",
       "week_title                1134\n",
       "id_winner                55346\n",
       "id_loser                103965\n",
       "dtype: int64"
      ]
     },
     "execution_count": 11,
     "metadata": {},
     "output_type": "execute_result"
    }
   ],
   "source": [
    "matches.nunique()"
   ]
  },
  {
   "cell_type": "code",
   "execution_count": 12,
   "metadata": {},
   "outputs": [
    {
     "data": {
      "text/plain": [
       "106690"
      ]
     },
     "execution_count": 12,
     "metadata": {},
     "output_type": "execute_result"
    }
   ],
   "source": [
    "len(matches.drop_duplicates())"
   ]
  },
  {
   "cell_type": "code",
   "execution_count": 13,
   "metadata": {},
   "outputs": [
    {
     "data": {
      "image/png": "[encoded data removed]",
      "text/plain": [
       "<Figure size 504x360 with 1 Axes>"
      ]
     },
     "metadata": {
      "needs_background": "light"
     },
     "output_type": "display_data"
    }
   ],
   "source": [
    "figsize(7,5)\n",
    "u = matches.groupby(\"surface\",as_index=False).count()\n",
    "plt.bar(u[\"surface\"],u[\"year\"])\n",
    "plt.show()"
   ]
  },
  {
   "cell_type": "code",
   "execution_count": 14,
   "metadata": {},
   "outputs": [
    {
     "data": {
      "image/png": "[encoded data removed]",
      "text/plain": [
       "<Figure size 216x216 with 1 Axes>"
      ]
     },
     "metadata": {
      "needs_background": "light"
     },
     "output_type": "display_data"
    }
   ],
   "source": [
    "figsize(3,3)\n",
    "u = matches.groupby(\"court\",as_index=False).count()\n",
    "plt.bar(u[\"court\"],u[\"year\"])\n",
    "plt.show()"
   ]
  },
  {
   "cell_type": "code",
   "execution_count": 15,
   "metadata": {},
   "outputs": [
    {
     "data": {
      "image/png": "[encoded data removed]",
      "text/plain": [
       "<Figure size 1440x504 with 1 Axes>"
      ]
     },
     "metadata": {
      "needs_background": "light"
     },
     "output_type": "display_data"
    }
   ],
   "source": [
    "figsize(20,7)\n",
    "u = matches.groupby(\"year\",as_index=False).count()\n",
    "plt.bar(u[\"year\"],u[\"round\"])\n",
    "plt.show()"
   ]
  },
  {
   "cell_type": "code",
   "execution_count": 20,
   "metadata": {},
   "outputs": [
    {
     "data": {
      "text/plain": [
       "<matplotlib.legend.Legend at 0x7fb8f4bb1bb0>"
      ]
     },
     "execution_count": 20,
     "metadata": {},
     "output_type": "execute_result"
    },
    {
     "data": {
      "image/png": "[encoded data removed]",
      "text/plain": [
       "<Figure size 1440x504 with 1 Axes>"
      ]
     },
     "metadata": {
      "needs_background": "light"
     },
     "output_type": "display_data"
    }
   ],
   "source": [
    "for surface in matches[\"surface\"].unique():\n",
    "    u = matches[matches[\"surface\"] == surface].groupby(\"year\",as_index=False).count()\n",
    "    plt.plot(u[\"year\"],u[\"round\"],label=surface)\n",
    "plt.legend()"
   ]
  },
  {
   "cell_type": "markdown",
   "metadata": {},
   "source": [
    "### Feature engineering"
   ]
  },
  {
   "cell_type": "code",
   "execution_count": 5,
   "metadata": {},
   "outputs": [],
   "source": [
    "matches = matches[matches[\"year\"] >= 2000].reset_index(drop=True)"
   ]
  },
  {
   "cell_type": "code",
   "execution_count": 6,
   "metadata": {},
   "outputs": [
    {
     "data": {
      "text/plain": [
       "24"
      ]
     },
     "execution_count": 6,
     "metadata": {},
     "output_type": "execute_result"
    }
   ],
   "source": [
    "len(matches[pd.isna(matches[\"round\"])])"
   ]
  },
  {
   "cell_type": "code",
   "execution_count": 7,
   "metadata": {},
   "outputs": [],
   "source": [
    "matches.dropna(subset=[\"round\"],inplace=True)"
   ]
  },
  {
   "cell_type": "code",
   "execution_count": 8,
   "metadata": {},
   "outputs": [],
   "source": [
    "matches[\"week_title\"] = pd.to_datetime(matches[\"week_title\"])\n",
    "matches[\"round\"] = (matches[\"round\"].astype(int)).astype(str)"
   ]
  },
  {
   "cell_type": "code",
   "execution_count": 9,
   "metadata": {},
   "outputs": [],
   "source": [
    "matches = pd.concat([matches,pd.get_dummies(matches[[\"surface\",\"court\",\"round\"]])],axis=1)"
   ]
  },
  {
   "cell_type": "code",
   "execution_count": 10,
   "metadata": {},
   "outputs": [],
   "source": [
    "matches[\"winner\"] = matches[\"winner\"].apply(lambda x : x.replace(\" \", \"\"))\n",
    "matches[\"loser\"] = matches[\"loser\"].apply(lambda x : x.replace(\" \", \"\"))"
   ]
  },
  {
   "cell_type": "code",
   "execution_count": 11,
   "metadata": {},
   "outputs": [],
   "source": [
    "matches.reset_index(drop=True,inplace=True)"
   ]
  },
  {
   "cell_type": "code",
   "execution_count": 14,
   "metadata": {},
   "outputs": [
    {
     "data": {
      "text/html": [
       "<div>\n",
       "<style scoped>\n",
       "    .dataframe tbody tr th:only-of-type {\n",
       "        vertical-align: middle;\n",
       "    }\n",
       "\n",
       "    .dataframe tbody tr th {\n",
       "        vertical-align: top;\n",
       "    }\n",
       "\n",
       "    .dataframe thead th {\n",
       "        text-align: right;\n",
       "    }\n",
       "</style>\n",
       "<table border=\"1\" class=\"dataframe\">\n",
       "  <thead>\n",
       "    <tr style=\"text-align: right;\">\n",
       "      <th></th>\n",
       "      <th>year</th>\n",
       "      <th>round</th>\n",
       "      <th>winner</th>\n",
       "      <th>loser</th>\n",
       "      <th>games_played</th>\n",
       "      <th>court</th>\n",
       "      <th>surface</th>\n",
       "      <th>tourney_singles_draw</th>\n",
       "      <th>tournoi_unique_id</th>\n",
       "      <th>week_title</th>\n",
       "      <th>...</th>\n",
       "      <th>round_1</th>\n",
       "      <th>round_10</th>\n",
       "      <th>round_2</th>\n",
       "      <th>round_3</th>\n",
       "      <th>round_4</th>\n",
       "      <th>round_5</th>\n",
       "      <th>round_6</th>\n",
       "      <th>round_7</th>\n",
       "      <th>round_8</th>\n",
       "      <th>round_9</th>\n",
       "    </tr>\n",
       "  </thead>\n",
       "  <tbody>\n",
       "    <tr>\n",
       "      <th>0</th>\n",
       "      <td>2000</td>\n",
       "      <td>1</td>\n",
       "      <td>hewitt_l.</td>\n",
       "      <td>enqvist_t.</td>\n",
       "      <td>26.0</td>\n",
       "      <td>Outdoor</td>\n",
       "      <td>Hard</td>\n",
       "      <td>32</td>\n",
       "      <td>2000-adelaide-hard</td>\n",
       "      <td>2000-01-03</td>\n",
       "      <td>...</td>\n",
       "      <td>1</td>\n",
       "      <td>0</td>\n",
       "      <td>0</td>\n",
       "      <td>0</td>\n",
       "      <td>0</td>\n",
       "      <td>0</td>\n",
       "      <td>0</td>\n",
       "      <td>0</td>\n",
       "      <td>0</td>\n",
       "      <td>0</td>\n",
       "    </tr>\n",
       "    <tr>\n",
       "      <th>1</th>\n",
       "      <td>2000</td>\n",
       "      <td>2</td>\n",
       "      <td>enqvist_t.</td>\n",
       "      <td>norman_m.</td>\n",
       "      <td>25.0</td>\n",
       "      <td>Outdoor</td>\n",
       "      <td>Hard</td>\n",
       "      <td>32</td>\n",
       "      <td>2000-adelaide-hard</td>\n",
       "      <td>2000-01-03</td>\n",
       "      <td>...</td>\n",
       "      <td>0</td>\n",
       "      <td>0</td>\n",
       "      <td>1</td>\n",
       "      <td>0</td>\n",
       "      <td>0</td>\n",
       "      <td>0</td>\n",
       "      <td>0</td>\n",
       "      <td>0</td>\n",
       "      <td>0</td>\n",
       "      <td>0</td>\n",
       "    </tr>\n",
       "    <tr>\n",
       "      <th>2</th>\n",
       "      <td>2000</td>\n",
       "      <td>2</td>\n",
       "      <td>hewitt_l.</td>\n",
       "      <td>escude_n.</td>\n",
       "      <td>26.0</td>\n",
       "      <td>Outdoor</td>\n",
       "      <td>Hard</td>\n",
       "      <td>32</td>\n",
       "      <td>2000-adelaide-hard</td>\n",
       "      <td>2000-01-03</td>\n",
       "      <td>...</td>\n",
       "      <td>0</td>\n",
       "      <td>0</td>\n",
       "      <td>1</td>\n",
       "      <td>0</td>\n",
       "      <td>0</td>\n",
       "      <td>0</td>\n",
       "      <td>0</td>\n",
       "      <td>0</td>\n",
       "      <td>0</td>\n",
       "      <td>0</td>\n",
       "    </tr>\n",
       "    <tr>\n",
       "      <th>3</th>\n",
       "      <td>2000</td>\n",
       "      <td>3</td>\n",
       "      <td>enqvist_t.</td>\n",
       "      <td>grosjean_s.</td>\n",
       "      <td>25.0</td>\n",
       "      <td>Outdoor</td>\n",
       "      <td>Hard</td>\n",
       "      <td>32</td>\n",
       "      <td>2000-adelaide-hard</td>\n",
       "      <td>2000-01-03</td>\n",
       "      <td>...</td>\n",
       "      <td>0</td>\n",
       "      <td>0</td>\n",
       "      <td>0</td>\n",
       "      <td>1</td>\n",
       "      <td>0</td>\n",
       "      <td>0</td>\n",
       "      <td>0</td>\n",
       "      <td>0</td>\n",
       "      <td>0</td>\n",
       "      <td>0</td>\n",
       "    </tr>\n",
       "    <tr>\n",
       "      <th>4</th>\n",
       "      <td>2000</td>\n",
       "      <td>3</td>\n",
       "      <td>escude_n.</td>\n",
       "      <td>henman_t.</td>\n",
       "      <td>16.0</td>\n",
       "      <td>Outdoor</td>\n",
       "      <td>Hard</td>\n",
       "      <td>32</td>\n",
       "      <td>2000-adelaide-hard</td>\n",
       "      <td>2000-01-03</td>\n",
       "      <td>...</td>\n",
       "      <td>0</td>\n",
       "      <td>0</td>\n",
       "      <td>0</td>\n",
       "      <td>1</td>\n",
       "      <td>0</td>\n",
       "      <td>0</td>\n",
       "      <td>0</td>\n",
       "      <td>0</td>\n",
       "      <td>0</td>\n",
       "      <td>0</td>\n",
       "    </tr>\n",
       "    <tr>\n",
       "      <th>...</th>\n",
       "      <td>...</td>\n",
       "      <td>...</td>\n",
       "      <td>...</td>\n",
       "      <td>...</td>\n",
       "      <td>...</td>\n",
       "      <td>...</td>\n",
       "      <td>...</td>\n",
       "      <td>...</td>\n",
       "      <td>...</td>\n",
       "      <td>...</td>\n",
       "      <td>...</td>\n",
       "      <td>...</td>\n",
       "      <td>...</td>\n",
       "      <td>...</td>\n",
       "      <td>...</td>\n",
       "      <td>...</td>\n",
       "      <td>...</td>\n",
       "      <td>...</td>\n",
       "      <td>...</td>\n",
       "      <td>...</td>\n",
       "      <td>...</td>\n",
       "    </tr>\n",
       "    <tr>\n",
       "      <th>74104</th>\n",
       "      <td>2020</td>\n",
       "      <td>3</td>\n",
       "      <td>dimitrov_g.</td>\n",
       "      <td>wawrinka_s.</td>\n",
       "      <td>20.0</td>\n",
       "      <td>Outdoor</td>\n",
       "      <td>Hard</td>\n",
       "      <td>32</td>\n",
       "      <td>2020-acapulco-hard</td>\n",
       "      <td>2020-02-27</td>\n",
       "      <td>...</td>\n",
       "      <td>0</td>\n",
       "      <td>0</td>\n",
       "      <td>0</td>\n",
       "      <td>1</td>\n",
       "      <td>0</td>\n",
       "      <td>0</td>\n",
       "      <td>0</td>\n",
       "      <td>0</td>\n",
       "      <td>0</td>\n",
       "      <td>0</td>\n",
       "    </tr>\n",
       "    <tr>\n",
       "      <th>74105</th>\n",
       "      <td>2020</td>\n",
       "      <td>3</td>\n",
       "      <td>nadal_r.</td>\n",
       "      <td>kwon_s.w.</td>\n",
       "      <td>15.0</td>\n",
       "      <td>Outdoor</td>\n",
       "      <td>Hard</td>\n",
       "      <td>32</td>\n",
       "      <td>2020-acapulco-hard</td>\n",
       "      <td>2020-02-27</td>\n",
       "      <td>...</td>\n",
       "      <td>0</td>\n",
       "      <td>0</td>\n",
       "      <td>0</td>\n",
       "      <td>1</td>\n",
       "      <td>0</td>\n",
       "      <td>0</td>\n",
       "      <td>0</td>\n",
       "      <td>0</td>\n",
       "      <td>0</td>\n",
       "      <td>0</td>\n",
       "    </tr>\n",
       "    <tr>\n",
       "      <th>74106</th>\n",
       "      <td>2020</td>\n",
       "      <td>2</td>\n",
       "      <td>fritz_t.</td>\n",
       "      <td>isner_j.</td>\n",
       "      <td>29.0</td>\n",
       "      <td>Outdoor</td>\n",
       "      <td>Hard</td>\n",
       "      <td>32</td>\n",
       "      <td>2020-acapulco-hard</td>\n",
       "      <td>2020-02-27</td>\n",
       "      <td>...</td>\n",
       "      <td>0</td>\n",
       "      <td>0</td>\n",
       "      <td>1</td>\n",
       "      <td>0</td>\n",
       "      <td>0</td>\n",
       "      <td>0</td>\n",
       "      <td>0</td>\n",
       "      <td>0</td>\n",
       "      <td>0</td>\n",
       "      <td>0</td>\n",
       "    </tr>\n",
       "    <tr>\n",
       "      <th>74107</th>\n",
       "      <td>2020</td>\n",
       "      <td>2</td>\n",
       "      <td>nadal_r.</td>\n",
       "      <td>dimitrov_g.</td>\n",
       "      <td>17.0</td>\n",
       "      <td>Outdoor</td>\n",
       "      <td>Hard</td>\n",
       "      <td>32</td>\n",
       "      <td>2020-acapulco-hard</td>\n",
       "      <td>2020-02-27</td>\n",
       "      <td>...</td>\n",
       "      <td>0</td>\n",
       "      <td>0</td>\n",
       "      <td>1</td>\n",
       "      <td>0</td>\n",
       "      <td>0</td>\n",
       "      <td>0</td>\n",
       "      <td>0</td>\n",
       "      <td>0</td>\n",
       "      <td>0</td>\n",
       "      <td>0</td>\n",
       "    </tr>\n",
       "    <tr>\n",
       "      <th>74108</th>\n",
       "      <td>2020</td>\n",
       "      <td>1</td>\n",
       "      <td>nadal_r.</td>\n",
       "      <td>fritz_t.</td>\n",
       "      <td>17.0</td>\n",
       "      <td>Outdoor</td>\n",
       "      <td>Hard</td>\n",
       "      <td>32</td>\n",
       "      <td>2020-acapulco-hard</td>\n",
       "      <td>2020-02-27</td>\n",
       "      <td>...</td>\n",
       "      <td>1</td>\n",
       "      <td>0</td>\n",
       "      <td>0</td>\n",
       "      <td>0</td>\n",
       "      <td>0</td>\n",
       "      <td>0</td>\n",
       "      <td>0</td>\n",
       "      <td>0</td>\n",
       "      <td>0</td>\n",
       "      <td>0</td>\n",
       "    </tr>\n",
       "  </tbody>\n",
       "</table>\n",
       "<p>74109 rows × 28 columns</p>\n",
       "</div>"
      ],
      "text/plain": [
       "       year round       winner        loser  games_played    court surface  \\\n",
       "0      2000     1    hewitt_l.   enqvist_t.          26.0  Outdoor    Hard   \n",
       "1      2000     2   enqvist_t.    norman_m.          25.0  Outdoor    Hard   \n",
       "2      2000     2    hewitt_l.    escude_n.          26.0  Outdoor    Hard   \n",
       "3      2000     3   enqvist_t.  grosjean_s.          25.0  Outdoor    Hard   \n",
       "4      2000     3    escude_n.    henman_t.          16.0  Outdoor    Hard   \n",
       "...     ...   ...          ...          ...           ...      ...     ...   \n",
       "74104  2020     3  dimitrov_g.  wawrinka_s.          20.0  Outdoor    Hard   \n",
       "74105  2020     3     nadal_r.    kwon_s.w.          15.0  Outdoor    Hard   \n",
       "74106  2020     2     fritz_t.     isner_j.          29.0  Outdoor    Hard   \n",
       "74107  2020     2     nadal_r.  dimitrov_g.          17.0  Outdoor    Hard   \n",
       "74108  2020     1     nadal_r.     fritz_t.          17.0  Outdoor    Hard   \n",
       "\n",
       "       tourney_singles_draw   tournoi_unique_id week_title  ... round_1  \\\n",
       "0                        32  2000-adelaide-hard 2000-01-03  ...       1   \n",
       "1                        32  2000-adelaide-hard 2000-01-03  ...       0   \n",
       "2                        32  2000-adelaide-hard 2000-01-03  ...       0   \n",
       "3                        32  2000-adelaide-hard 2000-01-03  ...       0   \n",
       "4                        32  2000-adelaide-hard 2000-01-03  ...       0   \n",
       "...                     ...                 ...        ...  ...     ...   \n",
       "74104                    32  2020-acapulco-hard 2020-02-27  ...       0   \n",
       "74105                    32  2020-acapulco-hard 2020-02-27  ...       0   \n",
       "74106                    32  2020-acapulco-hard 2020-02-27  ...       0   \n",
       "74107                    32  2020-acapulco-hard 2020-02-27  ...       0   \n",
       "74108                    32  2020-acapulco-hard 2020-02-27  ...       1   \n",
       "\n",
       "      round_10  round_2  round_3  round_4  round_5  round_6  round_7  round_8  \\\n",
       "0            0        0        0        0        0        0        0        0   \n",
       "1            0        1        0        0        0        0        0        0   \n",
       "2            0        1        0        0        0        0        0        0   \n",
       "3            0        0        1        0        0        0        0        0   \n",
       "4            0        0        1        0        0        0        0        0   \n",
       "...        ...      ...      ...      ...      ...      ...      ...      ...   \n",
       "74104        0        0        1        0        0        0        0        0   \n",
       "74105        0        0        1        0        0        0        0        0   \n",
       "74106        0        1        0        0        0        0        0        0   \n",
       "74107        0        1        0        0        0        0        0        0   \n",
       "74108        0        0        0        0        0        0        0        0   \n",
       "\n",
       "       round_9  \n",
       "0            0  \n",
       "1            0  \n",
       "2            0  \n",
       "3            0  \n",
       "4            0  \n",
       "...        ...  \n",
       "74104        0  \n",
       "74105        0  \n",
       "74106        0  \n",
       "74107        0  \n",
       "74108        0  \n",
       "\n",
       "[74109 rows x 28 columns]"
      ]
     },
     "execution_count": 14,
     "metadata": {},
     "output_type": "execute_result"
    }
   ],
   "source": [
    "matches"
   ]
  },
  {
   "cell_type": "code",
   "execution_count": 239,
   "metadata": {},
   "outputs": [],
   "source": [
    "matches.reset_index(inplace=True)\n",
    "matches.rename(columns={\"index\":\"match_id\"},inplace=True)"
   ]
  },
  {
   "cell_type": "code",
   "execution_count": 240,
   "metadata": {},
   "outputs": [],
   "source": [
    "a = matches.groupby([\"match_id\",\"tournoi_unique_id\",\"week_title\",\"round\",\"winner\"],as_index=False).count()\n",
    "b = matches.groupby([\"match_id\",\"tournoi_unique_id\",\"week_title\",\"round\",\"loser\"],as_index=False).count()\n",
    "a[\"match_won\"] = 1\n",
    "b[\"match_won\"] = 0\n",
    "a.rename(columns={\"winner\":\"player\"},inplace=True)\n",
    "b.rename(columns={\"loser\":\"player\"},inplace=True)"
   ]
  },
  {
   "cell_type": "code",
   "execution_count": 244,
   "metadata": {},
   "outputs": [],
   "source": [
    "a = matches.drop(columns=[\"loser\"]).rename(columns={\"winner\":\"player\"})\n",
    "a[\"match_won\"] = 1\n",
    "b = matches.drop(columns=[\"winner\"]).rename(columns={\"loser\":\"player\"})\n",
    "b[\"match_won\"] = 0"
   ]
  },
  {
   "cell_type": "code",
   "execution_count": 245,
   "metadata": {},
   "outputs": [],
   "source": [
    "df = pd.concat([a,b])\n",
    "df[\"date\"] = df[\"week_title\"] + df[\"round\"].apply(lambda x : timedelta(hours=float(x)))\n",
    "df.set_index([\"player\",\"date\"],inplace=True)\n",
    "df.sort_index(inplace=True)\n",
    "df[\"match_played\"] = 1"
   ]
  },
  {
   "cell_type": "code",
   "execution_count": 247,
   "metadata": {},
   "outputs": [],
   "source": [
    "#Creating features\n",
    "df[\"number_match_played_last_year\"] = df.reset_index(level=\"player\").groupby(['player'])['match_played'].rolling('365D').sum() - df[\"match_played\"]\n",
    "df[\"number_match_won_last_year\"] = df.reset_index(level=\"player\").groupby(['player'])['match_won'].rolling('365D').sum() - df[\"match_won\"]\n",
    "df[\"percentage_won_last_year\"] = df[\"number_match_won_last_year\"]/df[\"number_match_played_last_year\"]\n",
    "df[\"number_games_played_last_year\"] = df.reset_index(level=\"player\").groupby(['player'])['games_played'].rolling('365D').sum() - df[\"games_played\"]\n",
    "\n",
    "for surface in matches[\"surface\"].unique():\n",
    "    df[\"won_\"+surface] = (df[\"match_won\"] == 1) & (df[\"surface\"] == surface)\n",
    "\n",
    "for surface in matches[\"surface\"].unique():\n",
    "    df[\"number_match_played_last_year_on_\"+\n",
    "          surface] = df.reset_index(level=\"player\").groupby(['player'])[\"surface_\"+surface].rolling('365D').sum() - df[\"surface_\"+surface]\n",
    "    df[\"number_match_won_last_year_on_\"+\n",
    "          surface] = df.reset_index(level=\"player\").groupby(['player'])[\"won_\"+surface].rolling('365D').sum() - df[\"won_\"+surface]\n",
    "    \n",
    "for court in matches[\"court\"].unique():\n",
    "    df[\"won_\"+court] = (df[\"match_won\"] == 1) & (df[\"court\"] == court)\n",
    "\n",
    "for court in matches[\"court\"].unique():\n",
    "    df[\"number_match_played_last_year_\"+\n",
    "          court] = df.reset_index(level=\"player\").groupby(['player'])[\"court_\"+court].rolling('365D').sum() - df[\"court_\"+court]\n",
    "    df[\"number_match_won_last_year_\"+\n",
    "          court] = df.reset_index(level=\"player\").groupby(['player'])[\"won_\"+court].rolling('365D').sum() - df[\"won_\"+court]\n",
    "\n",
    "for r in matches[\"round\"].unique():\n",
    "    df[\"won_\"+r] = (df[\"match_won\"] == 1) & (df[\"round\"] == r)\n",
    "\n",
    "for r in matches[\"round\"].unique():\n",
    "    df[\"number_match_played_last_year_in_round_\"+\n",
    "          r] = df.reset_index(level=\"player\").groupby(['player'])[\"round_\"+r].rolling('365D').sum() - df[\"round_\"+r]\n",
    "    df[\"number_match_won_last_year_in_round_\"+\n",
    "          r] = df.reset_index(level=\"player\").groupby(['player'])[\"won_\"+r].rolling('365D').sum() - df[\"won_\"+r]\n",
    "\n",
    "#Specifying whether given player wins or loses the match\n",
    "for t in [1,0]:\n",
    "    if t:\n",
    "        outcome = \"winner\"\n",
    "    else:\n",
    "        outcome = \"loser\"\n",
    "\n",
    "    df.loc[df[\"match_won\"]==t,\"number_match_played_last_year_\"+outcome] = df.loc[df[\"match_won\"]==t,\"number_match_played_last_year\"]\n",
    "    df.loc[df[\"match_won\"]==t,\"number_match_won_last_year_\"+outcome] = df.loc[df[\"match_won\"]==t,\"number_match_won_last_year\"]\n",
    "    df.loc[df[\"match_won\"]==t,\"percentage_won_last_year_\"+outcome] = df.loc[df[\"match_won\"]==t,\"percentage_won_last_year\"]\n",
    "    df.loc[df[\"match_won\"]==t,\"number_games_played_last_year_\"+outcome] = df.loc[df[\"match_won\"]==t,\"number_games_played_last_year\"]\n",
    "\n",
    "    for surface in matches[\"surface\"].unique():\n",
    "        df.loc[df[\"match_won\"]==t,\"number_match_played_last_year_on_\"+surface+\"_\"+outcome] = df.loc[df[\"match_won\"]==t,\"number_match_played_last_year_on_\"+surface]\n",
    "        df.loc[df[\"match_won\"]==t,\"number_match_won_last_year_on_\"+surface+\"_\"+outcome] = df.loc[df[\"match_won\"]==t,\"number_match_won_last_year_on_\"+surface]\n",
    "\n",
    "    for court in matches[\"court\"].unique():\n",
    "        df.loc[df[\"match_won\"]==t,\"number_match_played_last_year_\"+court+\"_\"+outcome] = df.loc[df[\"match_won\"]==t,\"number_match_played_last_year_\"+court]\n",
    "        df.loc[df[\"match_won\"]==t,\"number_match_won_last_year_\"+court+\"_\"+outcome] = df.loc[df[\"match_won\"]==t,\"number_match_won_last_year_\"+court]  \n",
    "\n",
    "    for r in matches[\"round\"].unique():\n",
    "        df.loc[df[\"match_won\"]==t,\"number_match_played_last_year_in_round_\"+r+\"_\"+outcome] = df.loc[df[\"match_won\"]==t,\"number_match_played_last_year_in_round_\"+r]\n",
    "        df.loc[df[\"match_won\"]==t,\"number_match_won_last_year_in_round_\"+r+\"_\"+outcome] = df.loc[df[\"match_won\"]==t,\"number_match_won_last_year_in_round_\"+r]  \n",
    "\n",
    "# Removing useless columns\n",
    "df.drop(columns=[\"year\",\"games_played\",\"court\",\n",
    "                \"surface\",\"tourney_singles_draw\",\n",
    "                \"id_winner\",\"id_loser\",\"match_played\",\n",
    "                \"number_match_played_last_year\",\n",
    "                \"number_match_won_last_year\",\"percentage_won_last_year\",\n",
    "                \"number_games_played_last_year\"],inplace=True)\n",
    "\n",
    "for surface in matches[\"surface\"].unique():\n",
    "    del df[\"surface_\"+surface]\n",
    "    del df[\"won_\"+surface]\n",
    "    del df[\"number_match_played_last_year_on_\"+surface]\n",
    "    del df[\"number_match_won_last_year_on_\"+surface]\n",
    "\n",
    "for court in matches[\"court\"].unique():\n",
    "    del df[\"court_\"+court]\n",
    "    del df[\"won_\"+court]\n",
    "    del df[\"number_match_played_last_year_\"+court]\n",
    "    del df[\"number_match_won_last_year_\"+court]\n",
    "\n",
    "for r in matches[\"round\"].unique():\n",
    "    del df[\"round_\"+r]\n",
    "    del df[\"won_\"+r]\n",
    "    del df[\"number_match_played_last_year_in_round_\"+r]\n",
    "    del df[\"number_match_won_last_year_in_round_\"+r]\n"
   ]
  },
  {
   "cell_type": "code",
   "execution_count": 248,
   "metadata": {},
   "outputs": [],
   "source": [
    "df.reset_index(inplace=True)"
   ]
  },
  {
   "cell_type": "code",
   "execution_count": 292,
   "metadata": {},
   "outputs": [],
   "source": [
    "df.loc[df[\"match_won\"] == 1, \"winner\"] = df.loc[df[\"match_won\"] == 1, \"player\"]\n",
    "df.loc[df[\"match_won\"] == 0, \"loser\"] = df.loc[df[\"match_won\"] == 0, \"player\"]"
   ]
  },
  {
   "cell_type": "code",
   "execution_count": 293,
   "metadata": {},
   "outputs": [],
   "source": [
    "del df[\"player\"]\n",
    "del df[\"match_won\"]\n",
    "del df[\"date\"]"
   ]
  },
  {
   "cell_type": "code",
   "execution_count": 294,
   "metadata": {},
   "outputs": [],
   "source": [
    "df_winner = df[pd.isna(df[\"loser\"])]\n",
    "df_loser = df[pd.isna(df[\"winner\"])]"
   ]
  },
  {
   "cell_type": "code",
   "execution_count": 295,
   "metadata": {
    "scrolled": false
   },
   "outputs": [],
   "source": [
    "u = df.drop(columns=[\"winner\",\"loser\"]).groupby([\"match_id\",\"tournoi_unique_id\",\"week_title\",\"round\"],\n",
    "                                            as_index=False).max()\n",
    "v = df[[\"match_id\",\"winner\",\"loser\"]].groupby(\"match_id\").first()\n",
    "df = pd.merge(v,u,how='left',on='match_id')"
   ]
  },
  {
   "cell_type": "code",
   "execution_count": 300,
   "metadata": {},
   "outputs": [],
   "source": [
    "df = pd.merge(matches,df,how='left',on=['match_id',\"tournoi_unique_id\",\"week_title\",\"round\",\n",
    "                                   \"winner\",\"loser\"])"
   ]
  },
  {
   "cell_type": "code",
   "execution_count": 302,
   "metadata": {},
   "outputs": [],
   "source": [
    "for surface in matches[\"surface\"].unique():\n",
    "    del df[\"surface_\"+surface]\n",
    "\n",
    "for court in matches[\"court\"].unique():\n",
    "    del df[\"court_\"+court]\n",
    "\n",
    "for r in matches[\"round\"].unique():\n",
    "    del df[\"round_\"+r]"
   ]
  },
  {
   "cell_type": "code",
   "execution_count": 308,
   "metadata": {},
   "outputs": [],
   "source": [
    "df.to_csv(\"processed_matches.csv\",index=False)"
   ]
  },
  {
   "cell_type": "code",
   "execution_count": null,
   "metadata": {},
   "outputs": [],
   "source": []
  }
 ],
 "metadata": {
  "@webio": {
   "lastCommId": null,
   "lastKernelId": null
  },
  "kernelspec": {
   "display_name": "Python 3",
   "language": "python",
   "name": "python3"
  },
  "language_info": {
   "codemirror_mode": {
    "name": "ipython",
    "version": 3
   },
   "file_extension": ".py",
   "mimetype": "text/x-python",
   "name": "python",
   "nbconvert_exporter": "python",
   "pygments_lexer": "ipython3",
   "version": "3.8.3"
  },
  "toc": {
   "base_numbering": 1,
   "nav_menu": {},
   "number_sections": true,
   "sideBar": true,
   "skip_h1_title": false,
   "title_cell": "Table of Contents",
   "title_sidebar": "Contents",
   "toc_cell": false,
   "toc_position": {
    "height": "calc(100% - 180px)",
    "left": "10px",
    "top": "150px",
    "width": "233.390625px"
   },
   "toc_section_display": true,
   "toc_window_display": true
  },
  "varInspector": {
   "cols": {
    "lenName": 16,
    "lenType": 16,
    "lenVar": 40
   },
   "kernels_config": {
    "python": {
     "delete_cmd_postfix": "",
     "delete_cmd_prefix": "del ",
     "library": "var_list.py",
     "varRefreshCmd": "print(var_dic_list())"
    },
    "r": {
     "delete_cmd_postfix": ") ",
     "delete_cmd_prefix": "rm(",
     "library": "var_list.r",
     "varRefreshCmd": "cat(var_dic_list()) "
    }
   },
   "types_to_exclude": [
    "module",
    "function",
    "builtin_function_or_method",
    "instance",
    "_Feature"
   ],
   "window_display": false
  }
 },
 "nbformat": 4,
 "nbformat_minor": 4
}
